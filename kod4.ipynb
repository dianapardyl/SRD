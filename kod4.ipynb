{
 "cells": [
  {
   "cell_type": "markdown",
   "metadata": {},
   "source": [
    "## Zarys problemu i opis zbioru danych"
   ]
  },
  {
   "cell_type": "code",
   "execution_count": 1,
   "metadata": {},
   "outputs": [
    {
     "ename": "LoadError",
     "evalue": "ArgumentError: Package QuartzImageIO not found in current path:\n- Run `import Pkg; Pkg.add(\"QuartzImageIO\")` to install the QuartzImageIO package.\n",
     "output_type": "error",
     "traceback": [
      "ArgumentError: Package QuartzImageIO not found in current path:\n- Run `import Pkg; Pkg.add(\"QuartzImageIO\")` to install the QuartzImageIO package.\n",
      "",
      "Stacktrace:",
      " [1] require(::Module, ::Symbol) at ./loading.jl:893",
      " [2] include_string(::Function, ::Module, ::String, ::String) at ./loading.jl:1091"
     ]
    }
   ],
   "source": [
    "# Wczytanie pakietów\n",
    "using Pkg\n",
    "using QuartzImageIO\n",
    "using Flux\n",
    "using Flux: onehotbatch, onecold, crossentropy, throttle, @epochs\n",
    "using Random\n",
    "using StatsBase: mean\n",
    "using Base.Iterators: partition\n",
    "using DataFrames\n",
    "using Printf, BSON, LinearAlgebra\n",
    "using Plots\n",
    "using StatsPlots\n",
    "using DataFrames\n",
    "using Images\n",
    "using ImageMagick\n",
    "using StatsBase"
   ]
  },
  {
   "cell_type": "markdown",
   "metadata": {},
   "source": [
    "## Analiza eksploracyjna"
   ]
  },
  {
   "cell_type": "code",
   "execution_count": 15,
   "metadata": {},
   "outputs": [
    {
     "data": {
      "text/plain": [
       "24-element Array{String,1}:\n",
       " \"Mild:\"\n",
       " \"Alzheimer_s Dataset/train/MildDemented/mildDem0.jpg\"\n",
       " \"Alzheimer_s Dataset/train/MildDemented/mildDem1.jpg\"\n",
       " \"Alzheimer_s Dataset/train/MildDemented/mildDem10.jpg\"\n",
       " \"Alzheimer_s Dataset/train/MildDemented/mildDem100.jpg\"\n",
       " \"Alzheimer_s Dataset/train/MildDemented/mildDem101.jpg\"\n",
       " \"Moderate\"\n",
       " \"Alzheimer_s Dataset/train/ModerateDemented/moderateDem0.jpg\"\n",
       " \"Alzheimer_s Dataset/train/ModerateDemented/moderateDem1.jpg\"\n",
       " \"Alzheimer_s Dataset/train/ModerateDemented/moderateDem10.jpg\"\n",
       " \"Alzheimer_s Dataset/train/ModerateDemented/moderateDem11.jpg\"\n",
       " \"Alzheimer_s Dataset/train/ModerateDemented/moderateDem12.jpg\"\n",
       " \"Non\"\n",
       " \"Alzheimer_s Dataset/train/NonDemented/nonDem0.jpg\"\n",
       " \"Alzheimer_s Dataset/train/NonDemented/nonDem1.jpg\"\n",
       " \"Alzheimer_s Dataset/train/NonDemented/nonDem10.jpg\"\n",
       " \"Alzheimer_s Dataset/train/NonDemented/nonDem100.jpg\"\n",
       " \"Alzheimer_s Dataset/train/NonDemented/nonDem1000.jpg\"\n",
       " \"Very\"\n",
       " \"Alzheimer_s Dataset/train/VeryMildDemented/verymildDem0.jpg\"\n",
       " \"Alzheimer_s Dataset/train/VeryMildDemented/verymildDem1.jpg\"\n",
       " \"Alzheimer_s Dataset/train/VeryMildDemented/verymildDem10.jpg\"\n",
       " \"Alzheimer_s Dataset/train/VeryMildDemented/verymildDem100.jpg\"\n",
       " \"Alzheimer_s Dataset/train/VeryMildDemented/verymildDem1000.jpg\""
      ]
     },
     "execution_count": 15,
     "metadata": {},
     "output_type": "execute_result"
    }
   ],
   "source": [
    "# para - parasitized\n",
    "# uninf - uninfected\n",
    "mild = readdir(\"Alzheimer_s Dataset/train/MildDemented/\")\n",
    "mild = [\"Alzheimer_s Dataset/train/MildDemented/\"] .* mild[endswith.(mild, \".jpg\")]\n",
    "\n",
    "moderate = readdir(\"Alzheimer_s Dataset/train/ModerateDemented/\")\n",
    "moderate = [\"Alzheimer_s Dataset/train/ModerateDemented/\"] .* moderate[endswith.(moderate, \".jpg\")]\n",
    "\n",
    "non = readdir(\"Alzheimer_s Dataset/train/NonDemented/\")\n",
    "non = [\"Alzheimer_s Dataset/train/NonDemented/\"] .* non[endswith.(non, \".jpg\")]\n",
    "\n",
    "very = readdir(\"Alzheimer_s Dataset/train/VeryMildDemented/\")\n",
    "very = [\"Alzheimer_s Dataset/train/VeryMildDemented/\"] .* very[endswith.(very, \".jpg\")]\n",
    "\n",
    "\n",
    "[\"Mild:\"; mild[1:5]; \"Moderate\"; moderate[1:5]; \"Non\"; non[1:5]; \"Very\"; very[1:5]]"
   ]
  },
  {
   "cell_type": "code",
   "execution_count": 9,
   "metadata": {},
   "outputs": [
    {
     "ename": "LoadError",
     "evalue": "ArgumentError: Package DataFrames not found in current path:\n- Run `import Pkg; Pkg.add(\"DataFrames\")` to install the DataFrames package.\n",
     "output_type": "error",
     "traceback": [
      "ArgumentError: Package DataFrames not found in current path:\n- Run `import Pkg; Pkg.add(\"DataFrames\")` to install the DataFrames package.\n",
      "",
      "Stacktrace:",
      " [1] require(::Module, ::Symbol) at ./loading.jl:893",
      " [2] include_string(::Function, ::Module, ::String, ::String) at ./loading.jl:1091"
     ]
    }
   ],
   "source": [
    "using DataFrames\n",
    "\n",
    "data = DataFrame(id = para, para = 1)\n",
    "data = [data; DataFrame(id = uninf, para = 0)]\n",
    "first(data, 5)"
   ]
  },
  {
   "cell_type": "code",
   "execution_count": 665,
   "metadata": {},
   "outputs": [
    {
     "data": {
      "text/html": [
       "<table class=\"data-frame\"><thead><tr><th></th><th>id</th><th>para</th></tr><tr><th></th><th>String</th><th>Int64</th></tr></thead><tbody><p>5 rows × 2 columns</p><tr><th>1</th><td>cell_images/Uninfected/C99P60ThinF_IMG_20150918_142128_cell_47.png</td><td>0</td></tr><tr><th>2</th><td>cell_images/Uninfected/C99P60ThinF_IMG_20150918_142128_cell_52.png</td><td>0</td></tr><tr><th>3</th><td>cell_images/Uninfected/C99P60ThinF_IMG_20150918_142128_cell_53.png</td><td>0</td></tr><tr><th>4</th><td>cell_images/Uninfected/C99P60ThinF_IMG_20150918_142128_cell_55.png</td><td>0</td></tr><tr><th>5</th><td>cell_images/Uninfected/C99P60ThinF_IMG_20150918_142128_cell_56.png</td><td>0</td></tr></tbody></table>"
      ],
      "text/latex": [
       "\\begin{tabular}{r|cc}\n",
       "\t& id & para\\\\\n",
       "\t\\hline\n",
       "\t& String & Int64\\\\\n",
       "\t\\hline\n",
       "\t1 & cell\\_images/Uninfected/C99P60ThinF\\_IMG\\_20150918\\_142128\\_cell\\_47.png & 0 \\\\\n",
       "\t2 & cell\\_images/Uninfected/C99P60ThinF\\_IMG\\_20150918\\_142128\\_cell\\_52.png & 0 \\\\\n",
       "\t3 & cell\\_images/Uninfected/C99P60ThinF\\_IMG\\_20150918\\_142128\\_cell\\_53.png & 0 \\\\\n",
       "\t4 & cell\\_images/Uninfected/C99P60ThinF\\_IMG\\_20150918\\_142128\\_cell\\_55.png & 0 \\\\\n",
       "\t5 & cell\\_images/Uninfected/C99P60ThinF\\_IMG\\_20150918\\_142128\\_cell\\_56.png & 0 \\\\\n",
       "\\end{tabular}\n"
      ],
      "text/plain": [
       "5×2 DataFrame. Omitted printing of 1 columns\n",
       "│ Row │ id                                                                 │\n",
       "│     │ \u001b[90mString\u001b[39m                                                             │\n",
       "├─────┼────────────────────────────────────────────────────────────────────┤\n",
       "│ 1   │ cell_images/Uninfected/C99P60ThinF_IMG_20150918_142128_cell_47.png │\n",
       "│ 2   │ cell_images/Uninfected/C99P60ThinF_IMG_20150918_142128_cell_52.png │\n",
       "│ 3   │ cell_images/Uninfected/C99P60ThinF_IMG_20150918_142128_cell_53.png │\n",
       "│ 4   │ cell_images/Uninfected/C99P60ThinF_IMG_20150918_142128_cell_55.png │\n",
       "│ 5   │ cell_images/Uninfected/C99P60ThinF_IMG_20150918_142128_cell_56.png │"
      ]
     },
     "execution_count": 665,
     "metadata": {},
     "output_type": "execute_result"
    }
   ],
   "source": [
    "last(data, 5)"
   ]
  },
  {
   "cell_type": "code",
   "execution_count": 666,
   "metadata": {},
   "outputs": [
    {
     "name": "stdout",
     "output_type": "stream",
     "text": [
      "Liczba obrazków: 27558\n",
      "Liczba obrazków z komórkami zainfekowanymi: 13779\n",
      "Liczba obrazków z komórkami zdrowymi: 13779\n"
     ]
    }
   ],
   "source": [
    "println(\"Liczba obrazków: \", size(data)[1])\n",
    "println(\"Liczba obrazków z komórkami zainfekowanymi: \", sum(data[:, 2]))\n",
    "println(\"Liczba obrazków z komórkami zdrowymi: \", sum(data[:, 2] .== 0))"
   ]
  },
  {
   "cell_type": "code",
   "execution_count": 667,
   "metadata": {},
   "outputs": [
    {
     "data": {
      "image/png": "[encoded data removed]",
      "text/plain": [
       "148×142 Array{RGB{N0f8},2} with eltype RGB{Normed{UInt8,8}}:\n",
       " RGB{N0f8}(0.0,0.0,0.0)  RGB{N0f8}(0.0,0.0,0.0)  …  RGB{N0f8}(0.0,0.0,0.0)\n",
       " RGB{N0f8}(0.0,0.0,0.0)  RGB{N0f8}(0.0,0.0,0.0)     RGB{N0f8}(0.0,0.0,0.0)\n",
       " RGB{N0f8}(0.0,0.0,0.0)  RGB{N0f8}(0.0,0.0,0.0)     RGB{N0f8}(0.0,0.0,0.0)\n",
       " RGB{N0f8}(0.0,0.0,0.0)  RGB{N0f8}(0.0,0.0,0.0)     RGB{N0f8}(0.0,0.0,0.0)\n",
       " RGB{N0f8}(0.0,0.0,0.0)  RGB{N0f8}(0.0,0.0,0.0)     RGB{N0f8}(0.0,0.0,0.0)\n",
       " RGB{N0f8}(0.0,0.0,0.0)  RGB{N0f8}(0.0,0.0,0.0)  …  RGB{N0f8}(0.0,0.0,0.0)\n",
       " RGB{N0f8}(0.0,0.0,0.0)  RGB{N0f8}(0.0,0.0,0.0)     RGB{N0f8}(0.0,0.0,0.0)\n",
       " RGB{N0f8}(0.0,0.0,0.0)  RGB{N0f8}(0.0,0.0,0.0)     RGB{N0f8}(0.0,0.0,0.0)\n",
       " RGB{N0f8}(0.0,0.0,0.0)  RGB{N0f8}(0.0,0.0,0.0)     RGB{N0f8}(0.0,0.0,0.0)\n",
       " RGB{N0f8}(0.0,0.0,0.0)  RGB{N0f8}(0.0,0.0,0.0)     RGB{N0f8}(0.0,0.0,0.0)\n",
       " RGB{N0f8}(0.0,0.0,0.0)  RGB{N0f8}(0.0,0.0,0.0)  …  RGB{N0f8}(0.0,0.0,0.0)\n",
       " RGB{N0f8}(0.0,0.0,0.0)  RGB{N0f8}(0.0,0.0,0.0)     RGB{N0f8}(0.0,0.0,0.0)\n",
       " RGB{N0f8}(0.0,0.0,0.0)  RGB{N0f8}(0.0,0.0,0.0)     RGB{N0f8}(0.0,0.0,0.0)\n",
       " ⋮                                               ⋱                        \n",
       " RGB{N0f8}(0.0,0.0,0.0)  RGB{N0f8}(0.0,0.0,0.0)     RGB{N0f8}(0.0,0.0,0.0)\n",
       " RGB{N0f8}(0.0,0.0,0.0)  RGB{N0f8}(0.0,0.0,0.0)     RGB{N0f8}(0.0,0.0,0.0)\n",
       " RGB{N0f8}(0.0,0.0,0.0)  RGB{N0f8}(0.0,0.0,0.0)     RGB{N0f8}(0.0,0.0,0.0)\n",
       " RGB{N0f8}(0.0,0.0,0.0)  RGB{N0f8}(0.0,0.0,0.0)     RGB{N0f8}(0.0,0.0,0.0)\n",
       " RGB{N0f8}(0.0,0.0,0.0)  RGB{N0f8}(0.0,0.0,0.0)  …  RGB{N0f8}(0.0,0.0,0.0)\n",
       " RGB{N0f8}(0.0,0.0,0.0)  RGB{N0f8}(0.0,0.0,0.0)     RGB{N0f8}(0.0,0.0,0.0)\n",
       " RGB{N0f8}(0.0,0.0,0.0)  RGB{N0f8}(0.0,0.0,0.0)     RGB{N0f8}(0.0,0.0,0.0)\n",
       " RGB{N0f8}(0.0,0.0,0.0)  RGB{N0f8}(0.0,0.0,0.0)     RGB{N0f8}(0.0,0.0,0.0)\n",
       " RGB{N0f8}(0.0,0.0,0.0)  RGB{N0f8}(0.0,0.0,0.0)     RGB{N0f8}(0.0,0.0,0.0)\n",
       " RGB{N0f8}(0.0,0.0,0.0)  RGB{N0f8}(0.0,0.0,0.0)  …  RGB{N0f8}(0.0,0.0,0.0)\n",
       " RGB{N0f8}(0.0,0.0,0.0)  RGB{N0f8}(0.0,0.0,0.0)     RGB{N0f8}(0.0,0.0,0.0)\n",
       " RGB{N0f8}(0.0,0.0,0.0)  RGB{N0f8}(0.0,0.0,0.0)     RGB{N0f8}(0.0,0.0,0.0)"
      ]
     },
     "execution_count": 667,
     "metadata": {},
     "output_type": "execute_result"
    }
   ],
   "source": [
    "# Przykładowy obrazek zainfekowanej komórki\n",
    "load(data[1, 1])"
   ]
  },
  {
   "cell_type": "code",
   "execution_count": 668,
   "metadata": {},
   "outputs": [
    {
     "data": {
      "image/png": "[encoded data removed]",
      "text/plain": [
       "178×145 Array{RGB{N0f8},2} with eltype RGB{Normed{UInt8,8}}:\n",
       " RGB{N0f8}(0.0,0.0,0.0)  RGB{N0f8}(0.0,0.0,0.0)  …  RGB{N0f8}(0.0,0.0,0.0)\n",
       " RGB{N0f8}(0.0,0.0,0.0)  RGB{N0f8}(0.0,0.0,0.0)     RGB{N0f8}(0.0,0.0,0.0)\n",
       " RGB{N0f8}(0.0,0.0,0.0)  RGB{N0f8}(0.0,0.0,0.0)     RGB{N0f8}(0.0,0.0,0.0)\n",
       " RGB{N0f8}(0.0,0.0,0.0)  RGB{N0f8}(0.0,0.0,0.0)     RGB{N0f8}(0.0,0.0,0.0)\n",
       " RGB{N0f8}(0.0,0.0,0.0)  RGB{N0f8}(0.0,0.0,0.0)     RGB{N0f8}(0.0,0.0,0.0)\n",
       " RGB{N0f8}(0.0,0.0,0.0)  RGB{N0f8}(0.0,0.0,0.0)  …  RGB{N0f8}(0.0,0.0,0.0)\n",
       " RGB{N0f8}(0.0,0.0,0.0)  RGB{N0f8}(0.0,0.0,0.0)     RGB{N0f8}(0.0,0.0,0.0)\n",
       " RGB{N0f8}(0.0,0.0,0.0)  RGB{N0f8}(0.0,0.0,0.0)     RGB{N0f8}(0.0,0.0,0.0)\n",
       " RGB{N0f8}(0.0,0.0,0.0)  RGB{N0f8}(0.0,0.0,0.0)     RGB{N0f8}(0.0,0.0,0.0)\n",
       " RGB{N0f8}(0.0,0.0,0.0)  RGB{N0f8}(0.0,0.0,0.0)     RGB{N0f8}(0.0,0.0,0.0)\n",
       " RGB{N0f8}(0.0,0.0,0.0)  RGB{N0f8}(0.0,0.0,0.0)  …  RGB{N0f8}(0.0,0.0,0.0)\n",
       " RGB{N0f8}(0.0,0.0,0.0)  RGB{N0f8}(0.0,0.0,0.0)     RGB{N0f8}(0.0,0.0,0.0)\n",
       " RGB{N0f8}(0.0,0.0,0.0)  RGB{N0f8}(0.0,0.0,0.0)     RGB{N0f8}(0.0,0.0,0.0)\n",
       " ⋮                                               ⋱                        \n",
       " RGB{N0f8}(0.0,0.0,0.0)  RGB{N0f8}(0.0,0.0,0.0)     RGB{N0f8}(0.0,0.0,0.0)\n",
       " RGB{N0f8}(0.0,0.0,0.0)  RGB{N0f8}(0.0,0.0,0.0)     RGB{N0f8}(0.0,0.0,0.0)\n",
       " RGB{N0f8}(0.0,0.0,0.0)  RGB{N0f8}(0.0,0.0,0.0)     RGB{N0f8}(0.0,0.0,0.0)\n",
       " RGB{N0f8}(0.0,0.0,0.0)  RGB{N0f8}(0.0,0.0,0.0)     RGB{N0f8}(0.0,0.0,0.0)\n",
       " RGB{N0f8}(0.0,0.0,0.0)  RGB{N0f8}(0.0,0.0,0.0)  …  RGB{N0f8}(0.0,0.0,0.0)\n",
       " RGB{N0f8}(0.0,0.0,0.0)  RGB{N0f8}(0.0,0.0,0.0)     RGB{N0f8}(0.0,0.0,0.0)\n",
       " RGB{N0f8}(0.0,0.0,0.0)  RGB{N0f8}(0.0,0.0,0.0)     RGB{N0f8}(0.0,0.0,0.0)\n",
       " RGB{N0f8}(0.0,0.0,0.0)  RGB{N0f8}(0.0,0.0,0.0)     RGB{N0f8}(0.0,0.0,0.0)\n",
       " RGB{N0f8}(0.0,0.0,0.0)  RGB{N0f8}(0.0,0.0,0.0)     RGB{N0f8}(0.0,0.0,0.0)\n",
       " RGB{N0f8}(0.0,0.0,0.0)  RGB{N0f8}(0.0,0.0,0.0)  …  RGB{N0f8}(0.0,0.0,0.0)\n",
       " RGB{N0f8}(0.0,0.0,0.0)  RGB{N0f8}(0.0,0.0,0.0)     RGB{N0f8}(0.0,0.0,0.0)\n",
       " RGB{N0f8}(0.0,0.0,0.0)  RGB{N0f8}(0.0,0.0,0.0)     RGB{N0f8}(0.0,0.0,0.0)"
      ]
     },
     "execution_count": 668,
     "metadata": {},
     "output_type": "execute_result"
    }
   ],
   "source": [
    "# Przykładowy obrazek zdrowej komórki\n",
    "load(data[end, 1])"
   ]
  },
  {
   "cell_type": "markdown",
   "metadata": {},
   "source": [
    "## Załadowanie obrazków\n",
    ">Zmiana obrazków na odpowiedni do analizy rozmiar wynoszący 28x28 oraz zmiana kolorowego obrazka na obrazek w szarej skali."
   ]
  },
  {
   "cell_type": "markdown",
   "metadata": {},
   "source": [
    "# SAMPLE !!!!!!!!!!!!!!!!!!!!!!!!!!"
   ]
  },
  {
   "cell_type": "code",
   "execution_count": 698,
   "metadata": {},
   "outputs": [
    {
     "data": {
      "text/html": [
       "<table class=\"data-frame\"><thead><tr><th></th><th>id</th><th>para</th></tr><tr><th></th><th>String</th><th>Int64</th></tr></thead><tbody><p>10 rows × 2 columns</p><tr><th>1</th><td>cell_images/Parasitized/C66P27N_ThinF_IMG_20150818_163419_cell_204.png</td><td>1</td></tr><tr><th>2</th><td>cell_images/Parasitized/C97P58ThinF_IMG_20150917_151320_cell_156.png</td><td>1</td></tr><tr><th>3</th><td>cell_images/Uninfected/C81P42ThinF_IMG_20150817_120856_cell_10.png</td><td>0</td></tr><tr><th>4</th><td>cell_images/Parasitized/C113P74ThinF_IMG_20150930_135904_cell_188.png</td><td>1</td></tr><tr><th>5</th><td>cell_images/Uninfected/C13NThinF_IMG_20150614_131617_cell_212.png</td><td>0</td></tr><tr><th>6</th><td>cell_images/Parasitized/C157P118ThinF_IMG_20151115_164755_cell_190.png</td><td>1</td></tr><tr><th>7</th><td>cell_images/Parasitized/C113P74ThinF_IMG_20150930_135904_cell_188.png</td><td>1</td></tr><tr><th>8</th><td>cell_images/Uninfected/C173P134NThinF_IMG_20151130_125408_cell_185.png</td><td>0</td></tr><tr><th>9</th><td>cell_images/Uninfected/C67P28N_ThinF_IMG_20150819_133000_cell_61.png</td><td>0</td></tr><tr><th>10</th><td>cell_images/Uninfected/C6NThinF_IMG_20150609_122547_cell_114.png</td><td>0</td></tr></tbody></table>"
      ],
      "text/latex": [
       "\\begin{tabular}{r|cc}\n",
       "\t& id & para\\\\\n",
       "\t\\hline\n",
       "\t& String & Int64\\\\\n",
       "\t\\hline\n",
       "\t1 & cell\\_images/Parasitized/C66P27N\\_ThinF\\_IMG\\_20150818\\_163419\\_cell\\_204.png & 1 \\\\\n",
       "\t2 & cell\\_images/Parasitized/C97P58ThinF\\_IMG\\_20150917\\_151320\\_cell\\_156.png & 1 \\\\\n",
       "\t3 & cell\\_images/Uninfected/C81P42ThinF\\_IMG\\_20150817\\_120856\\_cell\\_10.png & 0 \\\\\n",
       "\t4 & cell\\_images/Parasitized/C113P74ThinF\\_IMG\\_20150930\\_135904\\_cell\\_188.png & 1 \\\\\n",
       "\t5 & cell\\_images/Uninfected/C13NThinF\\_IMG\\_20150614\\_131617\\_cell\\_212.png & 0 \\\\\n",
       "\t6 & cell\\_images/Parasitized/C157P118ThinF\\_IMG\\_20151115\\_164755\\_cell\\_190.png & 1 \\\\\n",
       "\t7 & cell\\_images/Parasitized/C113P74ThinF\\_IMG\\_20150930\\_135904\\_cell\\_188.png & 1 \\\\\n",
       "\t8 & cell\\_images/Uninfected/C173P134NThinF\\_IMG\\_20151130\\_125408\\_cell\\_185.png & 0 \\\\\n",
       "\t9 & cell\\_images/Uninfected/C67P28N\\_ThinF\\_IMG\\_20150819\\_133000\\_cell\\_61.png & 0 \\\\\n",
       "\t10 & cell\\_images/Uninfected/C6NThinF\\_IMG\\_20150609\\_122547\\_cell\\_114.png & 0 \\\\\n",
       "\\end{tabular}\n"
      ],
      "text/plain": [
       "10×2 DataFrame. Omitted printing of 1 columns\n",
       "│ Row │ id                                                                     │\n",
       "│     │ \u001b[90mString\u001b[39m                                                                 │\n",
       "├─────┼────────────────────────────────────────────────────────────────────────┤\n",
       "│ 1   │ cell_images/Parasitized/C66P27N_ThinF_IMG_20150818_163419_cell_204.png │\n",
       "│ 2   │ cell_images/Parasitized/C97P58ThinF_IMG_20150917_151320_cell_156.png   │\n",
       "│ 3   │ cell_images/Uninfected/C81P42ThinF_IMG_20150817_120856_cell_10.png     │\n",
       "│ 4   │ cell_images/Parasitized/C113P74ThinF_IMG_20150930_135904_cell_188.png  │\n",
       "│ 5   │ cell_images/Uninfected/C13NThinF_IMG_20150614_131617_cell_212.png      │\n",
       "│ 6   │ cell_images/Parasitized/C157P118ThinF_IMG_20151115_164755_cell_190.png │\n",
       "│ 7   │ cell_images/Parasitized/C113P74ThinF_IMG_20150930_135904_cell_188.png  │\n",
       "│ 8   │ cell_images/Uninfected/C173P134NThinF_IMG_20151130_125408_cell_185.png │\n",
       "│ 9   │ cell_images/Uninfected/C67P28N_ThinF_IMG_20150819_133000_cell_61.png   │\n",
       "│ 10  │ cell_images/Uninfected/C6NThinF_IMG_20150609_122547_cell_114.png       │"
      ]
     },
     "execution_count": 698,
     "metadata": {},
     "output_type": "execute_result"
    }
   ],
   "source": [
    "###########\n",
    "# SAMPLE #\n",
    "# wybiera 1000 losowych obrazków zamiast całego zbioru\n",
    "data = data[sample(1:nrow(data), 10000), :]\n",
    "first(data, 10)"
   ]
  },
  {
   "cell_type": "code",
   "execution_count": 699,
   "metadata": {},
   "outputs": [],
   "source": [
    "labels = data.para;"
   ]
  },
  {
   "cell_type": "code",
   "execution_count": 700,
   "metadata": {},
   "outputs": [],
   "source": [
    "# Załadowanie obrazków, redukcja skali kolorów do odcieni szarości oraz rozmiaru obrazka do 28x28\n",
    "images = []\n",
    "for name in data.id\n",
    "    push!(images, Gray.(imresize(load(name), 28, 28)))\n",
    "end"
   ]
  },
  {
   "cell_type": "code",
   "execution_count": 701,
   "metadata": {},
   "outputs": [
    {
     "data": {
      "image/png": "[encoded data removed]",
      "text/plain": [
       "28×28 Array{Gray{N0f8},2} with eltype Gray{Normed{UInt8,8}}:\n",
       " Gray{N0f8}(0.0)    Gray{N0f8}(0.0)    …  Gray{N0f8}(0.0)  \n",
       " Gray{N0f8}(0.0)    Gray{N0f8}(0.0)       Gray{N0f8}(0.0)  \n",
       " Gray{N0f8}(0.0)    Gray{N0f8}(0.0)       Gray{N0f8}(0.0)  \n",
       " Gray{N0f8}(0.0)    Gray{N0f8}(0.0)       Gray{N0f8}(0.0)  \n",
       " Gray{N0f8}(0.0)    Gray{N0f8}(0.0)       Gray{N0f8}(0.0)  \n",
       " Gray{N0f8}(0.0)    Gray{N0f8}(0.0)    …  Gray{N0f8}(0.0)  \n",
       " Gray{N0f8}(0.0)    Gray{N0f8}(0.741)     Gray{N0f8}(0.0)  \n",
       " Gray{N0f8}(0.0)    Gray{N0f8}(0.741)     Gray{N0f8}(0.0)  \n",
       " Gray{N0f8}(0.0)    Gray{N0f8}(0.725)     Gray{N0f8}(0.0)  \n",
       " Gray{N0f8}(0.0)    Gray{N0f8}(0.698)     Gray{N0f8}(0.0)  \n",
       " Gray{N0f8}(0.0)    Gray{N0f8}(0.663)  …  Gray{N0f8}(0.0)  \n",
       " Gray{N0f8}(0.0)    Gray{N0f8}(0.639)     Gray{N0f8}(0.745)\n",
       " Gray{N0f8}(0.639)  Gray{N0f8}(0.643)     Gray{N0f8}(0.741)\n",
       " ⋮                                     ⋱                   \n",
       " Gray{N0f8}(0.129)  Gray{N0f8}(0.643)     Gray{N0f8}(0.0)  \n",
       " Gray{N0f8}(0.729)  Gray{N0f8}(0.659)     Gray{N0f8}(0.0)  \n",
       " Gray{N0f8}(0.0)    Gray{N0f8}(0.671)     Gray{N0f8}(0.0)  \n",
       " Gray{N0f8}(0.0)    Gray{N0f8}(0.702)     Gray{N0f8}(0.0)  \n",
       " Gray{N0f8}(0.0)    Gray{N0f8}(0.745)  …  Gray{N0f8}(0.0)  \n",
       " Gray{N0f8}(0.0)    Gray{N0f8}(0.745)     Gray{N0f8}(0.0)  \n",
       " Gray{N0f8}(0.0)    Gray{N0f8}(0.741)     Gray{N0f8}(0.0)  \n",
       " Gray{N0f8}(0.0)    Gray{N0f8}(0.0)       Gray{N0f8}(0.0)  \n",
       " Gray{N0f8}(0.0)    Gray{N0f8}(0.0)       Gray{N0f8}(0.0)  \n",
       " Gray{N0f8}(0.0)    Gray{N0f8}(0.0)    …  Gray{N0f8}(0.0)  \n",
       " Gray{N0f8}(0.0)    Gray{N0f8}(0.0)       Gray{N0f8}(0.0)  \n",
       " Gray{N0f8}(0.0)    Gray{N0f8}(0.0)       Gray{N0f8}(0.0)  "
      ]
     },
     "execution_count": 701,
     "metadata": {},
     "output_type": "execute_result"
    }
   ],
   "source": [
    "images[15]"
   ]
  },
  {
   "cell_type": "code",
   "execution_count": 702,
   "metadata": {},
   "outputs": [
    {
     "data": {
      "text/plain": [
       "1"
      ]
     },
     "execution_count": 702,
     "metadata": {},
     "output_type": "execute_result"
    }
   ],
   "source": [
    "labels[15]"
   ]
  },
  {
   "cell_type": "markdown",
   "metadata": {},
   "source": [
    "# Podział na zbiór treningowy i testowy"
   ]
  },
  {
   "cell_type": "code",
   "execution_count": 703,
   "metadata": {},
   "outputs": [],
   "source": [
    "share_sample = sample(1:size(images, 1), size(images, 1)) ./ size(images, 1) .<= 0.7;\n",
    "\n",
    "images_train = images[share_sample]\n",
    "labels_train = labels[share_sample]\n",
    "images_test = images[.!share_sample]\n",
    "labels_test = labels[.!share_sample];"
   ]
  },
  {
   "cell_type": "code",
   "execution_count": 704,
   "metadata": {},
   "outputs": [],
   "source": [
    "epochs = 50;\n",
    "batch_size = 64;"
   ]
  },
  {
   "cell_type": "code",
   "execution_count": 705,
   "metadata": {},
   "outputs": [
    {
     "data": {
      "text/plain": [
       "make_minibatch (generic function with 1 method)"
      ]
     },
     "execution_count": 705,
     "metadata": {},
     "output_type": "execute_result"
    }
   ],
   "source": [
    "function make_minibatch(X, Y, idxs)\n",
    "    X_batch = Array{Float32}(undef, size(X[1])..., 1, length(idxs))\n",
    "    for i in 1:length(idxs)\n",
    "        X_batch[:, :, :, i] = Float32.(X[idxs[i]])\n",
    "    end\n",
    "    Y_batch = onehotbatch(Y[idxs], 0:1)\n",
    "    return (X_batch, Y_batch)\n",
    "end"
   ]
  },
  {
   "cell_type": "code",
   "execution_count": 706,
   "metadata": {},
   "outputs": [],
   "source": [
    "mb_idxs = partition(1:length(images_train), batch_size)\n",
    "\n",
    "train_set = [make_minibatch(images_train, labels_train, i) for i in mb_idxs]\n",
    "\n",
    "# Prepare test set as one giant minibatch:\n",
    "test_set = make_minibatch(images_test, labels_test, 1:length(images_test));"
   ]
  },
  {
   "cell_type": "markdown",
   "metadata": {},
   "source": [
    "## test"
   ]
  },
  {
   "cell_type": "code",
   "execution_count": 707,
   "metadata": {},
   "outputs": [
    {
     "name": "stdout",
     "output_type": "stream",
     "text": [
      "1"
     ]
    },
    {
     "data": {
      "image/png": "[encoded data removed]",
      "text/plain": [
       "28×28 Array{Gray{N0f8},2} with eltype Gray{Normed{UInt8,8}}:\n",
       " Gray{N0f8}(0.0)    Gray{N0f8}(0.0)    …  Gray{N0f8}(0.02) \n",
       " Gray{N0f8}(0.0)    Gray{N0f8}(0.0)       Gray{N0f8}(0.631)\n",
       " Gray{N0f8}(0.0)    Gray{N0f8}(0.0)       Gray{N0f8}(0.024)\n",
       " Gray{N0f8}(0.0)    Gray{N0f8}(0.0)       Gray{N0f8}(0.0)  \n",
       " Gray{N0f8}(0.0)    Gray{N0f8}(0.667)     Gray{N0f8}(0.0)  \n",
       " Gray{N0f8}(0.235)  Gray{N0f8}(0.655)  …  Gray{N0f8}(0.0)  \n",
       " Gray{N0f8}(0.671)  Gray{N0f8}(0.651)     Gray{N0f8}(0.0)  \n",
       " Gray{N0f8}(0.659)  Gray{N0f8}(0.639)     Gray{N0f8}(0.0)  \n",
       " Gray{N0f8}(0.643)  Gray{N0f8}(0.631)     Gray{N0f8}(0.0)  \n",
       " Gray{N0f8}(0.643)  Gray{N0f8}(0.624)     Gray{N0f8}(0.0)  \n",
       " Gray{N0f8}(0.643)  Gray{N0f8}(0.631)  …  Gray{N0f8}(0.0)  \n",
       " Gray{N0f8}(0.635)  Gray{N0f8}(0.62)      Gray{N0f8}(0.0)  \n",
       " Gray{N0f8}(0.639)  Gray{N0f8}(0.624)     Gray{N0f8}(0.0)  \n",
       " ⋮                                     ⋱                   \n",
       " Gray{N0f8}(0.0)    Gray{N0f8}(0.655)     Gray{N0f8}(0.0)  \n",
       " Gray{N0f8}(0.0)    Gray{N0f8}(0.0)       Gray{N0f8}(0.0)  \n",
       " Gray{N0f8}(0.0)    Gray{N0f8}(0.0)       Gray{N0f8}(0.0)  \n",
       " Gray{N0f8}(0.0)    Gray{N0f8}(0.0)       Gray{N0f8}(0.0)  \n",
       " Gray{N0f8}(0.0)    Gray{N0f8}(0.0)    …  Gray{N0f8}(0.0)  \n",
       " Gray{N0f8}(0.0)    Gray{N0f8}(0.0)       Gray{N0f8}(0.0)  \n",
       " Gray{N0f8}(0.0)    Gray{N0f8}(0.0)       Gray{N0f8}(0.0)  \n",
       " Gray{N0f8}(0.0)    Gray{N0f8}(0.0)       Gray{N0f8}(0.0)  \n",
       " Gray{N0f8}(0.0)    Gray{N0f8}(0.0)       Gray{N0f8}(0.0)  \n",
       " Gray{N0f8}(0.0)    Gray{N0f8}(0.0)    …  Gray{N0f8}(0.0)  \n",
       " Gray{N0f8}(0.0)    Gray{N0f8}(0.0)       Gray{N0f8}(0.0)  \n",
       " Gray{N0f8}(0.0)    Gray{N0f8}(0.0)       Gray{N0f8}(0.0)  "
      ]
     },
     "execution_count": 707,
     "metadata": {},
     "output_type": "execute_result"
    }
   ],
   "source": [
    "dd = 126\n",
    "print(labels_train[dd])\n",
    "images_train[dd]"
   ]
  },
  {
   "cell_type": "markdown",
   "metadata": {},
   "source": [
    "# Model 1"
   ]
  },
  {
   "cell_type": "code",
   "execution_count": 708,
   "metadata": {},
   "outputs": [],
   "source": [
    "model =   Chain(x -> reshape(x, :, size(x, 4)),\n",
    "    Dense(784,256),\n",
    "    Dropout(0.1), \n",
    "    Dense(256,256),\n",
    "    Dropout(0.1),\n",
    "    Dense(256,2),\n",
    "    softmax,\n",
    ");"
   ]
  },
  {
   "cell_type": "code",
   "execution_count": 709,
   "metadata": {},
   "outputs": [],
   "source": [
    "# # Sieć głęboka mlp jako benchmark\n",
    "# model =   Chain(x -> reshape(x, :, size(x, 4)),\n",
    "#         Dense(784,256, relu), \n",
    "#         Dropout(0.5), \n",
    "#         Dense(256,128, relu),\n",
    "#         Dropout(0.5),\n",
    "#         Dense(128,64, relu),\n",
    "#         Dropout(0.5),\n",
    "#         Dense(64,2, relu),\n",
    "#         softmax,\n",
    "# );"
   ]
  },
  {
   "cell_type": "code",
   "execution_count": 710,
   "metadata": {},
   "outputs": [],
   "source": [
    "# dla 64 x 64\n",
    "\n",
    "# # Sieć głęboka mlp jako benchmark\n",
    "# model =   Chain(x -> reshape(x, :, size(x, 4)),\n",
    "#         Dense(64^2,256, relu), \n",
    "#         Dropout(0.5), \n",
    "#         Dense(256,128, relu),\n",
    "#         Dropout(0.5),\n",
    "#         Dense(128,64, relu),\n",
    "#         Dropout(0.5),\n",
    "#         Dense(64,2, relu),\n",
    "#         softmax,\n",
    "# );"
   ]
  },
  {
   "cell_type": "code",
   "execution_count": 711,
   "metadata": {},
   "outputs": [
    {
     "data": {
      "text/plain": [
       "2×64 Array{Float32,2}:\n",
       " 0.453102  0.361857  0.482646  0.405024  …  0.559623  0.405911  0.224365\n",
       " 0.546898  0.638143  0.517354  0.594976     0.440377  0.594089  0.775635"
      ]
     },
     "execution_count": 711,
     "metadata": {},
     "output_type": "execute_result"
    }
   ],
   "source": [
    "model(train_set[1][1])"
   ]
  },
  {
   "cell_type": "code",
   "execution_count": 712,
   "metadata": {},
   "outputs": [
    {
     "data": {
      "text/plain": [
       "2×64 Flux.OneHotMatrix{Array{Flux.OneHotVector,1}}:\n",
       " false  false  false   true   true  …  false  false  false   true  false\n",
       "  true   true   true  false  false      true   true   true  false   true"
      ]
     },
     "execution_count": 712,
     "metadata": {},
     "output_type": "execute_result"
    }
   ],
   "source": [
    "train_set[1][2]"
   ]
  },
  {
   "cell_type": "code",
   "execution_count": 713,
   "metadata": {},
   "outputs": [
    {
     "data": {
      "text/plain": [
       "loss (generic function with 1 method)"
      ]
     },
     "execution_count": 713,
     "metadata": {},
     "output_type": "execute_result"
    }
   ],
   "source": [
    "function loss(x, y)\n",
    "    x_aug = x .+ 0.1f0*randn(eltype(x), size(x))\n",
    "    y_hat = model(x_aug)\n",
    "    return crossentropy(y_hat, y)\n",
    "end"
   ]
  },
  {
   "cell_type": "code",
   "execution_count": 714,
   "metadata": {},
   "outputs": [
    {
     "data": {
      "text/plain": [
       "2×64 Flux.OneHotMatrix{Array{Flux.OneHotVector,1}}:\n",
       " false  false  false   true   true  …  false  false  false   true  false\n",
       "  true   true   true  false  false      true   true   true  false   true"
      ]
     },
     "execution_count": 714,
     "metadata": {},
     "output_type": "execute_result"
    }
   ],
   "source": [
    "train_set[1][2]"
   ]
  },
  {
   "cell_type": "code",
   "execution_count": 715,
   "metadata": {},
   "outputs": [
    {
     "data": {
      "text/plain": [
       "0.7138154f0"
      ]
     },
     "execution_count": 715,
     "metadata": {},
     "output_type": "execute_result"
    }
   ],
   "source": [
    "loss(train_set[1][1],train_set[1][2])"
   ]
  },
  {
   "cell_type": "code",
   "execution_count": 716,
   "metadata": {},
   "outputs": [
    {
     "data": {
      "text/plain": [
       "accuracy (generic function with 1 method)"
      ]
     },
     "execution_count": 716,
     "metadata": {},
     "output_type": "execute_result"
    }
   ],
   "source": [
    "accuracy(x, y) = mean(onecold(model(x)) .== onecold(y))"
   ]
  },
  {
   "cell_type": "code",
   "execution_count": 717,
   "metadata": {},
   "outputs": [
    {
     "name": "stdout",
     "output_type": "stream",
     "text": [
      "  0.055718 seconds (30.45 k allocations: 12.463 MiB, 31.27% gc time)\n"
     ]
    },
    {
     "data": {
      "text/plain": [
       "0.502539790044023"
      ]
     },
     "execution_count": 717,
     "metadata": {},
     "output_type": "execute_result"
    }
   ],
   "source": [
    "@time accuracy(test_set[1],test_set[2])"
   ]
  },
  {
   "cell_type": "code",
   "execution_count": 718,
   "metadata": {},
   "outputs": [
    {
     "data": {
      "text/plain": [
       "ADAM(0.001, (0.9, 0.999), IdDict{Any,Any}())"
      ]
     },
     "execution_count": 718,
     "metadata": {},
     "output_type": "execute_result"
    }
   ],
   "source": [
    "opt = ADAM(0.001)"
   ]
  },
  {
   "cell_type": "code",
   "execution_count": 719,
   "metadata": {},
   "outputs": [
    {
     "name": "stderr",
     "output_type": "stream",
     "text": [
      "┌ Info: Beginning training loop...\n",
      "└ @ Main In[719]:1\n",
      "┌ Info: [1]: Test accuracy: 0.5574\n",
      "└ @ Main In[719]:8\n",
      "┌ Info:  -> New best accuracy! Saving model out to fashionMNIST_conv.bson\n",
      "└ @ Main In[719]:14\n",
      "┌ Info: [2]: Test accuracy: 0.6746\n",
      "└ @ Main In[719]:8\n",
      "┌ Info:  -> New best accuracy! Saving model out to fashionMNIST_conv.bson\n",
      "└ @ Main In[719]:14\n",
      "┌ Info: [3]: Test accuracy: 0.6278\n",
      "└ @ Main In[719]:8\n",
      "┌ Info: [4]: Test accuracy: 0.7972\n",
      "└ @ Main In[719]:8\n",
      "┌ Info:  -> New best accuracy! Saving model out to fashionMNIST_conv.bson\n",
      "└ @ Main In[719]:14\n",
      "┌ Info: [5]: Test accuracy: 0.8049\n",
      "└ @ Main In[719]:8\n",
      "┌ Info:  -> New best accuracy! Saving model out to fashionMNIST_conv.bson\n",
      "└ @ Main In[719]:14\n",
      "┌ Info: [6]: Test accuracy: 0.6742\n",
      "└ @ Main In[719]:8\n",
      "┌ Info: [7]: Test accuracy: 0.8364\n",
      "└ @ Main In[719]:8\n",
      "┌ Info:  -> New best accuracy! Saving model out to fashionMNIST_conv.bson\n",
      "└ @ Main In[719]:14\n",
      "┌ Info: [8]: Test accuracy: 0.7802\n",
      "└ @ Main In[719]:8\n",
      "┌ Info: [9]: Test accuracy: 0.7958\n",
      "└ @ Main In[719]:8\n",
      "┌ Info: [10]: Test accuracy: 0.7484\n",
      "└ @ Main In[719]:8\n",
      "┌ Info: [11]: Test accuracy: 0.8405\n",
      "└ @ Main In[719]:8\n",
      "┌ Info:  -> New best accuracy! Saving model out to fashionMNIST_conv.bson\n",
      "└ @ Main In[719]:14\n",
      "┌ Info: [12]: Test accuracy: 0.8408\n",
      "└ @ Main In[719]:8\n",
      "┌ Info:  -> New best accuracy! Saving model out to fashionMNIST_conv.bson\n",
      "└ @ Main In[719]:14\n",
      "┌ Info: [13]: Test accuracy: 0.8605\n",
      "└ @ Main In[719]:8\n",
      "┌ Info:  -> New best accuracy! Saving model out to fashionMNIST_conv.bson\n",
      "└ @ Main In[719]:14\n",
      "┌ Info: [14]: Test accuracy: 0.8066\n",
      "└ @ Main In[719]:8\n",
      "┌ Info: [15]: Test accuracy: 0.8642\n",
      "└ @ Main In[719]:8\n",
      "┌ Info:  -> New best accuracy! Saving model out to fashionMNIST_conv.bson\n",
      "└ @ Main In[719]:14\n",
      "┌ Info: [16]: Test accuracy: 0.8510\n",
      "└ @ Main In[719]:8\n",
      "┌ Info: [17]: Test accuracy: 0.8693\n",
      "└ @ Main In[719]:8\n",
      "┌ Info:  -> New best accuracy! Saving model out to fashionMNIST_conv.bson\n",
      "└ @ Main In[719]:14\n",
      "┌ Info: [18]: Test accuracy: 0.7995\n",
      "└ @ Main In[719]:8\n",
      "┌ Info: [19]: Test accuracy: 0.8882\n",
      "└ @ Main In[719]:8\n",
      "┌ Info:  -> New best accuracy! Saving model out to fashionMNIST_conv.bson\n",
      "└ @ Main In[719]:14\n",
      "┌ Info: [20]: Test accuracy: 0.8283\n",
      "└ @ Main In[719]:8\n",
      "┌ Info: [21]: Test accuracy: 0.8825\n",
      "└ @ Main In[719]:8\n",
      "┌ Info: [22]: Test accuracy: 0.8280\n",
      "└ @ Main In[719]:8\n",
      "┌ Info: [23]: Test accuracy: 0.7944\n",
      "└ @ Main In[719]:8\n",
      "┌ Info: [24]: Test accuracy: 0.8398\n",
      "└ @ Main In[719]:8\n",
      "┌ Warning:  -> Haven't improved in a while, dropping learning rate to 0.0001!\n",
      "└ @ Main In[719]:21\n",
      "┌ Info: [25]: Test accuracy: 0.8828\n",
      "└ @ Main In[719]:8\n",
      "┌ Info: [26]: Test accuracy: 0.8706\n",
      "└ @ Main In[719]:8\n",
      "┌ Info: [27]: Test accuracy: 0.8778\n",
      "└ @ Main In[719]:8\n",
      "┌ Info: [28]: Test accuracy: 0.8869\n",
      "└ @ Main In[719]:8\n",
      "┌ Info: [29]: Test accuracy: 0.8933\n",
      "└ @ Main In[719]:8\n",
      "┌ Info:  -> New best accuracy! Saving model out to fashionMNIST_conv.bson\n",
      "└ @ Main In[719]:14\n",
      "┌ Info: [30]: Test accuracy: 0.8933\n",
      "└ @ Main In[719]:8\n",
      "┌ Info:  -> New best accuracy! Saving model out to fashionMNIST_conv.bson\n",
      "└ @ Main In[719]:14\n",
      "┌ Info: [31]: Test accuracy: 0.8862\n",
      "└ @ Main In[719]:8\n",
      "┌ Info: [32]: Test accuracy: 0.8869\n",
      "└ @ Main In[719]:8\n",
      "┌ Info: [33]: Test accuracy: 0.8791\n",
      "└ @ Main In[719]:8\n",
      "┌ Info: [34]: Test accuracy: 0.8893\n",
      "└ @ Main In[719]:8\n",
      "┌ Info: [35]: Test accuracy: 0.8937\n",
      "└ @ Main In[719]:8\n",
      "┌ Info:  -> New best accuracy! Saving model out to fashionMNIST_conv.bson\n",
      "└ @ Main In[719]:14\n",
      "┌ Info: [36]: Test accuracy: 0.8913\n",
      "└ @ Main In[719]:8\n",
      "┌ Info: [37]: Test accuracy: 0.8866\n",
      "└ @ Main In[719]:8\n",
      "┌ Info: [38]: Test accuracy: 0.8927\n",
      "└ @ Main In[719]:8\n",
      "┌ Info: [39]: Test accuracy: 0.8971\n",
      "└ @ Main In[719]:8\n",
      "┌ Info:  -> New best accuracy! Saving model out to fashionMNIST_conv.bson\n",
      "└ @ Main In[719]:14\n",
      "┌ Info: [40]: Test accuracy: 0.8930\n",
      "└ @ Main In[719]:8\n",
      "┌ Info: [41]: Test accuracy: 0.8923\n",
      "└ @ Main In[719]:8\n",
      "┌ Info: [42]: Test accuracy: 0.8943\n",
      "└ @ Main In[719]:8\n",
      "┌ Info: [43]: Test accuracy: 0.8791\n",
      "└ @ Main In[719]:8\n",
      "┌ Info: [44]: Test accuracy: 0.8835\n",
      "└ @ Main In[719]:8\n",
      "┌ Warning:  -> Haven't improved in a while, dropping learning rate to 1.0e-5!\n",
      "└ @ Main In[719]:21\n",
      "┌ Info: [45]: Test accuracy: 0.8981\n",
      "└ @ Main In[719]:8\n",
      "┌ Info:  -> New best accuracy! Saving model out to fashionMNIST_conv.bson\n",
      "└ @ Main In[719]:14\n",
      "┌ Info: [46]: Test accuracy: 0.8981\n",
      "└ @ Main In[719]:8\n",
      "┌ Info:  -> New best accuracy! Saving model out to fashionMNIST_conv.bson\n",
      "└ @ Main In[719]:14\n",
      "┌ Info: [47]: Test accuracy: 0.8974\n",
      "└ @ Main In[719]:8\n",
      "┌ Info: [48]: Test accuracy: 0.8947\n",
      "└ @ Main In[719]:8\n",
      "┌ Info: [49]: Test accuracy: 0.8974\n",
      "└ @ Main In[719]:8\n",
      "┌ Info: [50]: Test accuracy: 0.8964\n",
      "└ @ Main In[719]:8\n"
     ]
    }
   ],
   "source": [
    "@info(\"Beginning training loop...\")\n",
    "best_acc = 0.0\n",
    "last_improvement = 0\n",
    "for epoch = 1:epochs\n",
    "    global best_acc, last_improvement\n",
    "    Flux.train!(loss, params(model), train_set, opt)\n",
    "    acc = accuracy(test_set[1],test_set[2])\n",
    "    @info(@sprintf(\"[%d]: Test accuracy: %.4f\", epoch, acc))\n",
    "    if acc >= 0.90\n",
    "        @info(\" -> Early-exiting: We reached our target accuracy of 90%\")\n",
    "        break\n",
    "    end\n",
    "    if acc >= best_acc\n",
    "        @info(\" -> New best accuracy! Saving model out to fashionMNIST_conv.bson\")\n",
    "        BSON.@save \"fashionMNIST_conv.bson\" model epoch acc\n",
    "        best_acc = acc\n",
    "        last_improvement = epoch\n",
    "    end\n",
    "    if epoch - last_improvement >= 5 && opt.eta > 1e-6\n",
    "        opt.eta /= 10.0\n",
    "        @warn(\" -> Haven't improved in a while, dropping learning rate to $(opt.eta)!\")\n",
    "        last_improvement = epoch\n",
    "    end\n",
    "    if epoch - last_improvement >= 10\n",
    "        @warn(\" -> We're calling this converged.\")\n",
    "        break\n",
    "    end\n",
    "end"
   ]
  },
  {
   "cell_type": "code",
   "execution_count": 720,
   "metadata": {},
   "outputs": [
    {
     "name": "stdout",
     "output_type": "stream",
     "text": [
      "accuracy(test_set[1], test_set[2]) = 0.8963765662038605\n"
     ]
    },
    {
     "data": {
      "text/plain": [
       "0.8963765662038605"
      ]
     },
     "execution_count": 720,
     "metadata": {},
     "output_type": "execute_result"
    }
   ],
   "source": [
    "# Precyzja na zbiorze testowym\n",
    "@show(accuracy(test_set[1], test_set[2]))"
   ]
  },
  {
   "cell_type": "markdown",
   "metadata": {},
   "source": [
    "><b>Wyniki:</b><br>Można zauważyć, że już na wstępie uczenia nie zaobserwowano znacznej poprawy właściwości prognostycznych modelu na zbiorze walidacyjnym. Pomimo dużej liczby iteracji algorytm <b>osiągnął niespełna 75% poziom precyzji na zbiorze testowym, co nie okazało się być wynikiem satysfakcjonującym.</b>"
   ]
  },
  {
   "cell_type": "markdown",
   "metadata": {},
   "source": [
    "#### Model 2: Sieć konwolucyjna o prostszej architekturze"
   ]
  },
  {
   "cell_type": "markdown",
   "metadata": {},
   "source": [
    ">W modelu drugim zdecydowano się zastosować elementy architektury o charakterze typowym dla sieci konwolucyjnym - tj. warstwę konwolucyjną. Dodatkowo zdecydowano się dodać padding, czyli 'powiększenie obrazka' o zero na krawędziach w celu zdobycia informacji również na końcach obrazka. W rezultacie model 2 składa się w jedej warstwy konwolucyjnej, paddingu, funkcji aktywacji w postaci funkcji ReLu oraz warstwy poolingu stosującej maksymalną wartość z obszaru 2x2. \n",
    "<br><br>  <b>Za benchmark przyjęto poziom accuracy 99%</b> na zbiorze walidacyjnym. W procesie uczenia przyjęto następujący algorytm postępowania: maksymalną liczbę iteracji ustalono na poziomie 15 z uwagi na ograniczenia systemowe i obliczeniowe posiadanego sprzętu. Jeśli model wcześnie osiągnie ustalone wcześniej kryterium to (tj. 99% accuracy) to przestaje trenować sieć. W przypadku poprawy wyniki są zapisywane a sieć dalej uczona.  "
   ]
  },
  {
   "cell_type": "markdown",
   "metadata": {},
   "source": [
    "# dwa"
   ]
  },
  {
   "cell_type": "code",
   "execution_count": null,
   "metadata": {},
   "outputs": [],
   "source": []
  },
  {
   "cell_type": "code",
   "execution_count": 721,
   "metadata": {},
   "outputs": [],
   "source": [
    "#Architektura modelu 2\n",
    "m2 = Chain(\n",
    "    Conv((3, 3), 1=>32, pad=(1,1)),\n",
    "    x -> maxpool(x, (2,2)),\n",
    "    x -> reshape(x, :, size(x, 4)),\n",
    "    Dense(6272, 2), \n",
    "    softmax);"
   ]
  },
  {
   "cell_type": "code",
   "execution_count": 722,
   "metadata": {},
   "outputs": [],
   "source": [
    "# Model 2 - definicja hiperparametrów\n",
    "loss(x, y) = crossentropy(m2(x), y) \n",
    "accuracy(x, y) = mean(onecold(m2(x),0:1) .== onecold(y,0:1))\n",
    "evalcb = throttle(() -> @show(accuracy(test_set[1], test_set[2]),loss(test_set[1],test_set[2])), 64)\n",
    "opt = ADAMW(0.001);"
   ]
  },
  {
   "cell_type": "code",
   "execution_count": 723,
   "metadata": {},
   "outputs": [
    {
     "name": "stderr",
     "output_type": "stream",
     "text": [
      "┌ Info: [1]: Precyzja na testowym: 0.5008\n",
      "└ @ Main In[723]:12\n",
      "┌ Info:  -> Nowa najlepsza precyzja! Model zapisany do my_model.bson\n",
      "└ @ Main In[723]:18\n",
      "┌ Info: [2]: Precyzja na testowym: 0.5008\n",
      "└ @ Main In[723]:12\n",
      "┌ Info:  -> Nowa najlepsza precyzja! Model zapisany do my_model.bson\n",
      "└ @ Main In[723]:18\n",
      "┌ Info: [3]: Precyzja na testowym: 0.5008\n",
      "└ @ Main In[723]:12\n",
      "┌ Info:  -> Nowa najlepsza precyzja! Model zapisany do my_model.bson\n",
      "└ @ Main In[723]:18\n",
      "┌ Info: [4]: Precyzja na testowym: 0.5008\n",
      "└ @ Main In[723]:12\n",
      "┌ Info:  -> Nowa najlepsza precyzja! Model zapisany do my_model.bson\n",
      "└ @ Main In[723]:18\n",
      "┌ Info: [5]: Precyzja na testowym: 0.5008\n",
      "└ @ Main In[723]:12\n",
      "┌ Info:  -> Nowa najlepsza precyzja! Model zapisany do my_model.bson\n",
      "└ @ Main In[723]:18\n",
      "┌ Info: [6]: Precyzja na testowym: 0.5008\n",
      "└ @ Main In[723]:12\n",
      "┌ Info:  -> Nowa najlepsza precyzja! Model zapisany do my_model.bson\n",
      "└ @ Main In[723]:18\n",
      "┌ Info: [7]: Precyzja na testowym: 0.5008\n",
      "└ @ Main In[723]:12\n",
      "┌ Info:  -> Nowa najlepsza precyzja! Model zapisany do my_model.bson\n",
      "└ @ Main In[723]:18\n",
      "┌ Info: [8]: Precyzja na testowym: 0.5008\n",
      "└ @ Main In[723]:12\n",
      "┌ Info:  -> Nowa najlepsza precyzja! Model zapisany do my_model.bson\n",
      "└ @ Main In[723]:18\n",
      "┌ Info: [9]: Precyzja na testowym: 0.5008\n",
      "└ @ Main In[723]:12\n",
      "┌ Info:  -> Nowa najlepsza precyzja! Model zapisany do my_model.bson\n",
      "└ @ Main In[723]:18\n",
      "┌ Info: [10]: Precyzja na testowym: 0.5008\n",
      "└ @ Main In[723]:12\n",
      "┌ Info:  -> Nowa najlepsza precyzja! Model zapisany do my_model.bson\n",
      "└ @ Main In[723]:18\n",
      "┌ Info: [11]: Precyzja na testowym: 0.5008\n",
      "└ @ Main In[723]:12\n",
      "┌ Info:  -> Nowa najlepsza precyzja! Model zapisany do my_model.bson\n",
      "└ @ Main In[723]:18\n",
      "┌ Info: [12]: Precyzja na testowym: 0.5008\n",
      "└ @ Main In[723]:12\n",
      "┌ Info:  -> Nowa najlepsza precyzja! Model zapisany do my_model.bson\n",
      "└ @ Main In[723]:18\n",
      "┌ Info: [13]: Precyzja na testowym: 0.5008\n",
      "└ @ Main In[723]:12\n",
      "┌ Info:  -> Nowa najlepsza precyzja! Model zapisany do my_model.bson\n",
      "└ @ Main In[723]:18\n",
      "┌ Info: [14]: Precyzja na testowym: 0.5008\n",
      "└ @ Main In[723]:12\n",
      "┌ Info:  -> Nowa najlepsza precyzja! Model zapisany do my_model.bson\n",
      "└ @ Main In[723]:18\n",
      "┌ Info: [15]: Precyzja na testowym: 0.5008\n",
      "└ @ Main In[723]:12\n",
      "┌ Info:  -> Nowa najlepsza precyzja! Model zapisany do my_model.bson\n",
      "└ @ Main In[723]:18\n",
      "┌ Info: [16]: Precyzja na testowym: 0.5008\n",
      "└ @ Main In[723]:12\n",
      "┌ Info:  -> Nowa najlepsza precyzja! Model zapisany do my_model.bson\n",
      "└ @ Main In[723]:18\n",
      "┌ Info: [17]: Precyzja na testowym: 0.5008\n",
      "└ @ Main In[723]:12\n",
      "┌ Info:  -> Nowa najlepsza precyzja! Model zapisany do my_model.bson\n",
      "└ @ Main In[723]:18\n",
      "┌ Info: [18]: Precyzja na testowym: 0.5008\n",
      "└ @ Main In[723]:12\n",
      "┌ Info:  -> Nowa najlepsza precyzja! Model zapisany do my_model.bson\n",
      "└ @ Main In[723]:18\n",
      "┌ Info: [19]: Precyzja na testowym: 0.5008\n",
      "└ @ Main In[723]:12\n",
      "┌ Info:  -> Nowa najlepsza precyzja! Model zapisany do my_model.bson\n",
      "└ @ Main In[723]:18\n",
      "┌ Info: [20]: Precyzja na testowym: 0.5008\n",
      "└ @ Main In[723]:12\n",
      "┌ Info:  -> Nowa najlepsza precyzja! Model zapisany do my_model.bson\n",
      "└ @ Main In[723]:18\n",
      "┌ Info: [21]: Precyzja na testowym: 0.5008\n",
      "└ @ Main In[723]:12\n",
      "┌ Info:  -> Nowa najlepsza precyzja! Model zapisany do my_model.bson\n",
      "└ @ Main In[723]:18\n",
      "┌ Info: [22]: Precyzja na testowym: 0.5008\n",
      "└ @ Main In[723]:12\n",
      "┌ Info:  -> Nowa najlepsza precyzja! Model zapisany do my_model.bson\n",
      "└ @ Main In[723]:18\n",
      "┌ Info: [23]: Precyzja na testowym: 0.5008\n",
      "└ @ Main In[723]:12\n",
      "┌ Info:  -> Nowa najlepsza precyzja! Model zapisany do my_model.bson\n",
      "└ @ Main In[723]:18\n",
      "┌ Info: [24]: Precyzja na testowym: 0.5008\n",
      "└ @ Main In[723]:12\n",
      "┌ Info:  -> Nowa najlepsza precyzja! Model zapisany do my_model.bson\n",
      "└ @ Main In[723]:18\n",
      "┌ Info: [25]: Precyzja na testowym: 0.5008\n",
      "└ @ Main In[723]:12\n",
      "┌ Info:  -> Nowa najlepsza precyzja! Model zapisany do my_model.bson\n",
      "└ @ Main In[723]:18\n",
      "┌ Info: [26]: Precyzja na testowym: 0.5008\n",
      "└ @ Main In[723]:12\n",
      "┌ Info:  -> Nowa najlepsza precyzja! Model zapisany do my_model.bson\n",
      "└ @ Main In[723]:18\n",
      "┌ Info: [27]: Precyzja na testowym: 0.5008\n",
      "└ @ Main In[723]:12\n",
      "┌ Info:  -> Nowa najlepsza precyzja! Model zapisany do my_model.bson\n",
      "└ @ Main In[723]:18\n",
      "┌ Info: [28]: Precyzja na testowym: 0.5008\n",
      "└ @ Main In[723]:12\n",
      "┌ Info:  -> Nowa najlepsza precyzja! Model zapisany do my_model.bson\n",
      "└ @ Main In[723]:18\n",
      "┌ Info: [29]: Precyzja na testowym: 0.5008\n",
      "└ @ Main In[723]:12\n",
      "┌ Info:  -> Nowa najlepsza precyzja! Model zapisany do my_model.bson\n",
      "└ @ Main In[723]:18\n",
      "┌ Info: [30]: Precyzja na testowym: 0.5008\n",
      "└ @ Main In[723]:12\n",
      "┌ Info:  -> Nowa najlepsza precyzja! Model zapisany do my_model.bson\n",
      "└ @ Main In[723]:18\n",
      "┌ Info: [31]: Precyzja na testowym: 0.5008\n",
      "└ @ Main In[723]:12\n",
      "┌ Info:  -> Nowa najlepsza precyzja! Model zapisany do my_model.bson\n",
      "└ @ Main In[723]:18\n",
      "┌ Info: [32]: Precyzja na testowym: 0.5008\n",
      "└ @ Main In[723]:12\n",
      "┌ Info:  -> Nowa najlepsza precyzja! Model zapisany do my_model.bson\n",
      "└ @ Main In[723]:18\n",
      "┌ Info: [33]: Precyzja na testowym: 0.5008\n",
      "└ @ Main In[723]:12\n",
      "┌ Info:  -> Nowa najlepsza precyzja! Model zapisany do my_model.bson\n",
      "└ @ Main In[723]:18\n",
      "┌ Info: [34]: Precyzja na testowym: 0.5008\n",
      "└ @ Main In[723]:12\n",
      "┌ Info:  -> Nowa najlepsza precyzja! Model zapisany do my_model.bson\n",
      "└ @ Main In[723]:18\n",
      "┌ Info: [35]: Precyzja na testowym: 0.5008\n",
      "└ @ Main In[723]:12\n",
      "┌ Info:  -> Nowa najlepsza precyzja! Model zapisany do my_model.bson\n",
      "└ @ Main In[723]:18\n",
      "┌ Info: [36]: Precyzja na testowym: 0.5008\n",
      "└ @ Main In[723]:12\n",
      "┌ Info:  -> Nowa najlepsza precyzja! Model zapisany do my_model.bson\n",
      "└ @ Main In[723]:18\n",
      "┌ Info: [37]: Precyzja na testowym: 0.5008\n",
      "└ @ Main In[723]:12\n",
      "┌ Info:  -> Nowa najlepsza precyzja! Model zapisany do my_model.bson\n",
      "└ @ Main In[723]:18\n",
      "┌ Info: [38]: Precyzja na testowym: 0.5008\n",
      "└ @ Main In[723]:12\n",
      "┌ Info:  -> Nowa najlepsza precyzja! Model zapisany do my_model.bson\n",
      "└ @ Main In[723]:18\n",
      "┌ Info: [39]: Precyzja na testowym: 0.5008\n",
      "└ @ Main In[723]:12\n",
      "┌ Info:  -> Nowa najlepsza precyzja! Model zapisany do my_model.bson\n",
      "└ @ Main In[723]:18\n",
      "┌ Info: [40]: Precyzja na testowym: 0.5008\n",
      "└ @ Main In[723]:12\n",
      "┌ Info:  -> Nowa najlepsza precyzja! Model zapisany do my_model.bson\n",
      "└ @ Main In[723]:18\n",
      "┌ Info: [41]: Precyzja na testowym: 0.5008\n",
      "└ @ Main In[723]:12\n",
      "┌ Info:  -> Nowa najlepsza precyzja! Model zapisany do my_model.bson\n",
      "└ @ Main In[723]:18\n",
      "┌ Info: [42]: Precyzja na testowym: 0.5008\n",
      "└ @ Main In[723]:12\n",
      "┌ Info:  -> Nowa najlepsza precyzja! Model zapisany do my_model.bson\n",
      "└ @ Main In[723]:18\n",
      "┌ Info: [43]: Precyzja na testowym: 0.5008\n",
      "└ @ Main In[723]:12\n",
      "┌ Info:  -> Nowa najlepsza precyzja! Model zapisany do my_model.bson\n",
      "└ @ Main In[723]:18\n",
      "┌ Info: [44]: Precyzja na testowym: 0.5008\n",
      "└ @ Main In[723]:12\n",
      "┌ Info:  -> Nowa najlepsza precyzja! Model zapisany do my_model.bson\n",
      "└ @ Main In[723]:18\n",
      "┌ Info: [45]: Precyzja na testowym: 0.5008\n",
      "└ @ Main In[723]:12\n",
      "┌ Info:  -> Nowa najlepsza precyzja! Model zapisany do my_model.bson\n",
      "└ @ Main In[723]:18\n",
      "┌ Info: [46]: Precyzja na testowym: 0.5008\n",
      "└ @ Main In[723]:12\n",
      "┌ Info:  -> Nowa najlepsza precyzja! Model zapisany do my_model.bson\n",
      "└ @ Main In[723]:18\n",
      "┌ Info: [47]: Precyzja na testowym: 0.5008\n",
      "└ @ Main In[723]:12\n",
      "┌ Info:  -> Nowa najlepsza precyzja! Model zapisany do my_model.bson\n",
      "└ @ Main In[723]:18\n",
      "┌ Info: [48]: Precyzja na testowym: 0.5008\n",
      "└ @ Main In[723]:12\n",
      "┌ Info:  -> Nowa najlepsza precyzja! Model zapisany do my_model.bson\n",
      "└ @ Main In[723]:18\n",
      "┌ Info: [49]: Precyzja na testowym: 0.5008\n",
      "└ @ Main In[723]:12\n",
      "┌ Info:  -> Nowa najlepsza precyzja! Model zapisany do my_model.bson\n",
      "└ @ Main In[723]:18\n",
      "┌ Info: [50]: Precyzja na testowym: 0.5008\n",
      "└ @ Main In[723]:12\n",
      "┌ Info:  -> Nowa najlepsza precyzja! Model zapisany do my_model.bson\n",
      "└ @ Main In[723]:18\n"
     ]
    }
   ],
   "source": [
    "# Model 2 Proces uczenia\n",
    "best_acc = 0.0\n",
    "df = DataFrame(Epoch=1:epochs, Accuracy_test=0.0);\n",
    "cntr = 1;\n",
    "for i=1:epochs\n",
    "    global best_acc, last_improvement\n",
    "    Flux.train!(loss, params(m2), train_set, opt)\n",
    "    df[cntr, :Epoch]=i\n",
    "    df[cntr, :Accuracy_test]=accuracy(test_set[1], test_set[2])\n",
    "    cntr+=1\n",
    "    acc1 = accuracy(test_set[1], test_set[2])\n",
    "        @info(@sprintf(\"[%d]: Precyzja na testowym: %.4f\", i, acc1))\n",
    "    if acc1 >= 0.99\n",
    "        @info(\" -> Wczesne zatrzymanie: Osiągnięto 99% precyzję\")\n",
    "        break\n",
    "    end\n",
    "    if acc1 >= best_acc\n",
    "        @info(\" -> Nowa najlepsza precyzja! Model zapisany do my_model.bson\")\n",
    "        BSON.@save \"my_model.bson\" m2 i acc1\n",
    "        best_acc = acc1\n",
    "        last_improvement = i\n",
    "    end\n",
    "end"
   ]
  },
  {
   "cell_type": "code",
   "execution_count": 724,
   "metadata": {},
   "outputs": [
    {
     "data": {
      "text/html": [
       "<table class=\"data-frame\"><thead><tr><th></th><th>Epoch</th><th>Accuracy_test</th></tr><tr><th></th><th>Int64</th><th>Float64</th></tr></thead><tbody><p>50 rows × 2 columns</p><tr><th>1</th><td>1</td><td>0.500847</td></tr><tr><th>2</th><td>2</td><td>0.500847</td></tr><tr><th>3</th><td>3</td><td>0.500847</td></tr><tr><th>4</th><td>4</td><td>0.500847</td></tr><tr><th>5</th><td>5</td><td>0.500847</td></tr><tr><th>6</th><td>6</td><td>0.500847</td></tr><tr><th>7</th><td>7</td><td>0.500847</td></tr><tr><th>8</th><td>8</td><td>0.500847</td></tr><tr><th>9</th><td>9</td><td>0.500847</td></tr><tr><th>10</th><td>10</td><td>0.500847</td></tr><tr><th>11</th><td>11</td><td>0.500847</td></tr><tr><th>12</th><td>12</td><td>0.500847</td></tr><tr><th>13</th><td>13</td><td>0.500847</td></tr><tr><th>14</th><td>14</td><td>0.500847</td></tr><tr><th>15</th><td>15</td><td>0.500847</td></tr><tr><th>16</th><td>16</td><td>0.500847</td></tr><tr><th>17</th><td>17</td><td>0.500847</td></tr><tr><th>18</th><td>18</td><td>0.500847</td></tr><tr><th>19</th><td>19</td><td>0.500847</td></tr><tr><th>20</th><td>20</td><td>0.500847</td></tr><tr><th>21</th><td>21</td><td>0.500847</td></tr><tr><th>22</th><td>22</td><td>0.500847</td></tr><tr><th>23</th><td>23</td><td>0.500847</td></tr><tr><th>24</th><td>24</td><td>0.500847</td></tr><tr><th>25</th><td>25</td><td>0.500847</td></tr><tr><th>26</th><td>26</td><td>0.500847</td></tr><tr><th>27</th><td>27</td><td>0.500847</td></tr><tr><th>28</th><td>28</td><td>0.500847</td></tr><tr><th>29</th><td>29</td><td>0.500847</td></tr><tr><th>30</th><td>30</td><td>0.500847</td></tr><tr><th>&vellip;</th><td>&vellip;</td><td>&vellip;</td></tr></tbody></table>"
      ],
      "text/latex": [
       "\\begin{tabular}{r|cc}\n",
       "\t& Epoch & Accuracy\\_test\\\\\n",
       "\t\\hline\n",
       "\t& Int64 & Float64\\\\\n",
       "\t\\hline\n",
       "\t1 & 1 & 0.500847 \\\\\n",
       "\t2 & 2 & 0.500847 \\\\\n",
       "\t3 & 3 & 0.500847 \\\\\n",
       "\t4 & 4 & 0.500847 \\\\\n",
       "\t5 & 5 & 0.500847 \\\\\n",
       "\t6 & 6 & 0.500847 \\\\\n",
       "\t7 & 7 & 0.500847 \\\\\n",
       "\t8 & 8 & 0.500847 \\\\\n",
       "\t9 & 9 & 0.500847 \\\\\n",
       "\t10 & 10 & 0.500847 \\\\\n",
       "\t11 & 11 & 0.500847 \\\\\n",
       "\t12 & 12 & 0.500847 \\\\\n",
       "\t13 & 13 & 0.500847 \\\\\n",
       "\t14 & 14 & 0.500847 \\\\\n",
       "\t15 & 15 & 0.500847 \\\\\n",
       "\t16 & 16 & 0.500847 \\\\\n",
       "\t17 & 17 & 0.500847 \\\\\n",
       "\t18 & 18 & 0.500847 \\\\\n",
       "\t19 & 19 & 0.500847 \\\\\n",
       "\t20 & 20 & 0.500847 \\\\\n",
       "\t21 & 21 & 0.500847 \\\\\n",
       "\t22 & 22 & 0.500847 \\\\\n",
       "\t23 & 23 & 0.500847 \\\\\n",
       "\t24 & 24 & 0.500847 \\\\\n",
       "\t25 & 25 & 0.500847 \\\\\n",
       "\t26 & 26 & 0.500847 \\\\\n",
       "\t27 & 27 & 0.500847 \\\\\n",
       "\t28 & 28 & 0.500847 \\\\\n",
       "\t29 & 29 & 0.500847 \\\\\n",
       "\t30 & 30 & 0.500847 \\\\\n",
       "\t$\\dots$ & $\\dots$ & $\\dots$ \\\\\n",
       "\\end{tabular}\n"
      ],
      "text/plain": [
       "50×2 DataFrame\n",
       "│ Row │ Epoch │ Accuracy_test │\n",
       "│     │ \u001b[90mInt64\u001b[39m │ \u001b[90mFloat64\u001b[39m       │\n",
       "├─────┼───────┼───────────────┤\n",
       "│ 1   │ 1     │ 0.500847      │\n",
       "│ 2   │ 2     │ 0.500847      │\n",
       "│ 3   │ 3     │ 0.500847      │\n",
       "│ 4   │ 4     │ 0.500847      │\n",
       "│ 5   │ 5     │ 0.500847      │\n",
       "│ 6   │ 6     │ 0.500847      │\n",
       "│ 7   │ 7     │ 0.500847      │\n",
       "│ 8   │ 8     │ 0.500847      │\n",
       "│ 9   │ 9     │ 0.500847      │\n",
       "│ 10  │ 10    │ 0.500847      │\n",
       "⋮\n",
       "│ 40  │ 40    │ 0.500847      │\n",
       "│ 41  │ 41    │ 0.500847      │\n",
       "│ 42  │ 42    │ 0.500847      │\n",
       "│ 43  │ 43    │ 0.500847      │\n",
       "│ 44  │ 44    │ 0.500847      │\n",
       "│ 45  │ 45    │ 0.500847      │\n",
       "│ 46  │ 46    │ 0.500847      │\n",
       "│ 47  │ 47    │ 0.500847      │\n",
       "│ 48  │ 48    │ 0.500847      │\n",
       "│ 49  │ 49    │ 0.500847      │\n",
       "│ 50  │ 50    │ 0.500847      │"
      ]
     },
     "execution_count": 724,
     "metadata": {},
     "output_type": "execute_result"
    }
   ],
   "source": [
    "df"
   ]
  },
  {
   "cell_type": "code",
   "execution_count": 505,
   "metadata": {},
   "outputs": [
    {
     "data": {
      "image/svg+xml": [
       "<?xml version=\"1.0\" encoding=\"utf-8\"?>\n",
       "<svg xmlns=\"http://www.w3.org/2000/svg\" xmlns:xlink=\"http://www.w3.org/1999/xlink\" width=\"600\" height=\"400\" viewBox=\"0 0 2400 1600\">\n",
       "<defs>\n",
       "  <clipPath id=\"clip420\">\n",
       "    <rect x=\"0\" y=\"0\" width=\"2400\" height=\"1600\"/>\n",
       "  </clipPath>\n",
       "</defs>\n",
       "<path clip-path=\"url(#clip420)\" d=\"\n",
       "M0 1600 L2400 1600 L2400 0 L0 0  Z\n",
       "  \" fill=\"#ffffff\" fill-rule=\"evenodd\" fill-opacity=\"1\"/>\n",
       "<defs>\n",
       "  <clipPath id=\"clip421\">\n",
       "    <rect x=\"480\" y=\"0\" width=\"1681\" height=\"1600\"/>\n",
       "  </clipPath>\n",
       "</defs>\n",
       "<path clip-path=\"url(#clip420)\" d=\"\n",
       "M153.898 1487.47 L2352.76 1487.47 L2352.76 47.2441 L153.898 47.2441  Z\n",
       "  \" fill=\"#ffffff\" fill-rule=\"evenodd\" fill-opacity=\"1\"/>\n",
       "<defs>\n",
       "  <clipPath id=\"clip422\">\n",
       "    <rect x=\"153\" y=\"47\" width=\"2200\" height=\"1441\"/>\n",
       "  </clipPath>\n",
       "</defs>\n",
       "<polyline clip-path=\"url(#clip422)\" style=\"stroke:#000000; stroke-width:1.6; stroke-opacity:0.1; fill:none\" points=\"\n",
       "  652.844,1487.47 652.844,47.2441 \n",
       "  \"/>\n",
       "<polyline clip-path=\"url(#clip422)\" style=\"stroke:#000000; stroke-width:1.6; stroke-opacity:0.1; fill:none\" points=\"\n",
       "  1198.74,1487.47 1198.74,47.2441 \n",
       "  \"/>\n",
       "<polyline clip-path=\"url(#clip422)\" style=\"stroke:#000000; stroke-width:1.6; stroke-opacity:0.1; fill:none\" points=\"\n",
       "  1744.63,1487.47 1744.63,47.2441 \n",
       "  \"/>\n",
       "<polyline clip-path=\"url(#clip422)\" style=\"stroke:#000000; stroke-width:1.6; stroke-opacity:0.1; fill:none\" points=\"\n",
       "  2290.52,1487.47 2290.52,47.2441 \n",
       "  \"/>\n",
       "<polyline clip-path=\"url(#clip422)\" style=\"stroke:#000000; stroke-width:1.6; stroke-opacity:0.1; fill:none\" points=\"\n",
       "  153.898,1336.52 2352.76,1336.52 \n",
       "  \"/>\n",
       "<polyline clip-path=\"url(#clip422)\" style=\"stroke:#000000; stroke-width:1.6; stroke-opacity:0.1; fill:none\" points=\"\n",
       "  153.898,1064.78 2352.76,1064.78 \n",
       "  \"/>\n",
       "<polyline clip-path=\"url(#clip422)\" style=\"stroke:#000000; stroke-width:1.6; stroke-opacity:0.1; fill:none\" points=\"\n",
       "  153.898,793.039 2352.76,793.039 \n",
       "  \"/>\n",
       "<polyline clip-path=\"url(#clip422)\" style=\"stroke:#000000; stroke-width:1.6; stroke-opacity:0.1; fill:none\" points=\"\n",
       "  153.898,521.298 2352.76,521.298 \n",
       "  \"/>\n",
       "<polyline clip-path=\"url(#clip422)\" style=\"stroke:#000000; stroke-width:1.6; stroke-opacity:0.1; fill:none\" points=\"\n",
       "  153.898,249.556 2352.76,249.556 \n",
       "  \"/>\n",
       "<polyline clip-path=\"url(#clip420)\" style=\"stroke:#000000; stroke-width:3.2; stroke-opacity:1; fill:none\" points=\"\n",
       "  153.898,1487.47 2352.76,1487.47 \n",
       "  \"/>\n",
       "<polyline clip-path=\"url(#clip420)\" style=\"stroke:#000000; stroke-width:3.2; stroke-opacity:1; fill:none\" points=\"\n",
       "  153.898,1487.47 153.898,47.2441 \n",
       "  \"/>\n",
       "<polyline clip-path=\"url(#clip420)\" style=\"stroke:#000000; stroke-width:3.2; stroke-opacity:1; fill:none\" points=\"\n",
       "  652.844,1487.47 652.844,1465.87 \n",
       "  \"/>\n",
       "<polyline clip-path=\"url(#clip420)\" style=\"stroke:#000000; stroke-width:3.2; stroke-opacity:1; fill:none\" points=\"\n",
       "  1198.74,1487.47 1198.74,1465.87 \n",
       "  \"/>\n",
       "<polyline clip-path=\"url(#clip420)\" style=\"stroke:#000000; stroke-width:3.2; stroke-opacity:1; fill:none\" points=\"\n",
       "  1744.63,1487.47 1744.63,1465.87 \n",
       "  \"/>\n",
       "<polyline clip-path=\"url(#clip420)\" style=\"stroke:#000000; stroke-width:3.2; stroke-opacity:1; fill:none\" points=\"\n",
       "  2290.52,1487.47 2290.52,1465.87 \n",
       "  \"/>\n",
       "<polyline clip-path=\"url(#clip420)\" style=\"stroke:#000000; stroke-width:3.2; stroke-opacity:1; fill:none\" points=\"\n",
       "  153.898,1336.52 186.881,1336.52 \n",
       "  \"/>\n",
       "<polyline clip-path=\"url(#clip420)\" style=\"stroke:#000000; stroke-width:3.2; stroke-opacity:1; fill:none\" points=\"\n",
       "  153.898,1064.78 186.881,1064.78 \n",
       "  \"/>\n",
       "<polyline clip-path=\"url(#clip420)\" style=\"stroke:#000000; stroke-width:3.2; stroke-opacity:1; fill:none\" points=\"\n",
       "  153.898,793.039 186.881,793.039 \n",
       "  \"/>\n",
       "<polyline clip-path=\"url(#clip420)\" style=\"stroke:#000000; stroke-width:3.2; stroke-opacity:1; fill:none\" points=\"\n",
       "  153.898,521.298 186.881,521.298 \n",
       "  \"/>\n",
       "<polyline clip-path=\"url(#clip420)\" style=\"stroke:#000000; stroke-width:3.2; stroke-opacity:1; fill:none\" points=\"\n",
       "  153.898,249.556 186.881,249.556 \n",
       "  \"/>\n",
       "<g clip-path=\"url(#clip420)\">\n",
       "<text style=\"fill:#000000; fill-opacity:1; font-family:Arial,Helvetica Neue,Helvetica,sans-serif; font-size:48px; text-anchor:middle;\" transform=\"rotate(0, 652.844, 1541.47)\" x=\"652.844\" y=\"1541.47\">5</text>\n",
       "</g>\n",
       "<g clip-path=\"url(#clip420)\">\n",
       "<text style=\"fill:#000000; fill-opacity:1; font-family:Arial,Helvetica Neue,Helvetica,sans-serif; font-size:48px; text-anchor:middle;\" transform=\"rotate(0, 1198.74, 1541.47)\" x=\"1198.74\" y=\"1541.47\">10</text>\n",
       "</g>\n",
       "<g clip-path=\"url(#clip420)\">\n",
       "<text style=\"fill:#000000; fill-opacity:1; font-family:Arial,Helvetica Neue,Helvetica,sans-serif; font-size:48px; text-anchor:middle;\" transform=\"rotate(0, 1744.63, 1541.47)\" x=\"1744.63\" y=\"1541.47\">15</text>\n",
       "</g>\n",
       "<g clip-path=\"url(#clip420)\">\n",
       "<text style=\"fill:#000000; fill-opacity:1; font-family:Arial,Helvetica Neue,Helvetica,sans-serif; font-size:48px; text-anchor:middle;\" transform=\"rotate(0, 2290.52, 1541.47)\" x=\"2290.52\" y=\"1541.47\">20</text>\n",
       "</g>\n",
       "<g clip-path=\"url(#clip420)\">\n",
       "<text style=\"fill:#000000; fill-opacity:1; font-family:Arial,Helvetica Neue,Helvetica,sans-serif; font-size:48px; text-anchor:end;\" transform=\"rotate(0, 129.898, 1354.02)\" x=\"129.898\" y=\"1354.02\">0.6</text>\n",
       "</g>\n",
       "<g clip-path=\"url(#clip420)\">\n",
       "<text style=\"fill:#000000; fill-opacity:1; font-family:Arial,Helvetica Neue,Helvetica,sans-serif; font-size:48px; text-anchor:end;\" transform=\"rotate(0, 129.898, 1082.28)\" x=\"129.898\" y=\"1082.28\">0.8</text>\n",
       "</g>\n",
       "<g clip-path=\"url(#clip420)\">\n",
       "<text style=\"fill:#000000; fill-opacity:1; font-family:Arial,Helvetica Neue,Helvetica,sans-serif; font-size:48px; text-anchor:end;\" transform=\"rotate(0, 129.898, 810.539)\" x=\"129.898\" y=\"810.539\">1.0</text>\n",
       "</g>\n",
       "<g clip-path=\"url(#clip420)\">\n",
       "<text style=\"fill:#000000; fill-opacity:1; font-family:Arial,Helvetica Neue,Helvetica,sans-serif; font-size:48px; text-anchor:end;\" transform=\"rotate(0, 129.898, 538.798)\" x=\"129.898\" y=\"538.798\">1.2</text>\n",
       "</g>\n",
       "<g clip-path=\"url(#clip420)\">\n",
       "<text style=\"fill:#000000; fill-opacity:1; font-family:Arial,Helvetica Neue,Helvetica,sans-serif; font-size:48px; text-anchor:end;\" transform=\"rotate(0, 129.898, 267.056)\" x=\"129.898\" y=\"267.056\">1.4</text>\n",
       "</g>\n",
       "<polyline clip-path=\"url(#clip422)\" style=\"stroke:#009af9; stroke-width:6.4; stroke-opacity:1; fill:none\" points=\"\n",
       "  216.13,1446.71 325.308,1446.71 434.487,1446.71 543.666,1446.71 652.844,1446.71 762.023,1446.71 871.202,1446.71 980.38,1446.71 1089.56,1446.71 1198.74,1446.71 \n",
       "  1307.92,1446.71 1417.09,1446.71 1526.27,1446.71 1635.45,1446.71 1744.63,1446.71 1853.81,1446.71 1962.99,1446.71 2072.17,1446.71 2181.35,1446.71 2290.52,1446.71 \n",
       "  \n",
       "  \"/>\n",
       "<path clip-path=\"url(#clip420)\" d=\"\n",
       "M1931.11 251.724 L2280.76 251.724 L2280.76 130.764 L1931.11 130.764  Z\n",
       "  \" fill=\"#ffffff\" fill-rule=\"evenodd\" fill-opacity=\"1\"/>\n",
       "<polyline clip-path=\"url(#clip420)\" style=\"stroke:#000000; stroke-width:3.2; stroke-opacity:1; fill:none\" points=\"\n",
       "  1931.11,251.724 2280.76,251.724 2280.76,130.764 1931.11,130.764 1931.11,251.724 \n",
       "  \"/>\n",
       "<polyline clip-path=\"url(#clip420)\" style=\"stroke:#009af9; stroke-width:6.4; stroke-opacity:1; fill:none\" points=\"\n",
       "  1955.11,191.244 2099.11,191.244 \n",
       "  \"/>\n",
       "<g clip-path=\"url(#clip420)\">\n",
       "<text style=\"fill:#000000; fill-opacity:1; font-family:Arial,Helvetica Neue,Helvetica,sans-serif; font-size:48px; text-anchor:start;\" transform=\"rotate(0, 2123.11, 208.744)\" x=\"2123.11\" y=\"208.744\">Train</text>\n",
       "</g>\n",
       "</svg>\n"
      ]
     },
     "execution_count": 505,
     "metadata": {},
     "output_type": "execute_result"
    }
   ],
   "source": [
    "# Generowanie wykresu \n",
    "p_epoch = df[:,:Epoch]\n",
    "p_test = df[:,:Accuracy_test]\n",
    "p1 = plot(p_epoch,p_test,label=[\"Train\"],lw=2)"
   ]
  },
  {
   "cell_type": "code",
   "execution_count": 508,
   "metadata": {},
   "outputs": [
    {
     "name": "stdout",
     "output_type": "stream",
     "text": [
      "accuracy(test_set[1], test_set[2]) = 0.5189003436426117\n"
     ]
    },
    {
     "data": {
      "text/plain": [
       "0.5189003436426117"
      ]
     },
     "execution_count": 508,
     "metadata": {},
     "output_type": "execute_result"
    }
   ],
   "source": [
    "@show(accuracy(test_set[1], test_set[2]))"
   ]
  },
  {
   "cell_type": "markdown",
   "metadata": {},
   "source": [
    "><b>Wyniki:</b><br>Przy 15 iteracjach nie została osiągnięta ustalona trafność na zbiorze walidacyjnym (0,99), różnica wyniosła nieco ponad 0,05. Accuracy na zbiorze testowym wyniosło 0,939, natomiast na zbiorze walidacyjnym 0,937. Z wykresu wynika, iż do 10 epoki różnica w wartościach accuracy na obu zbiorach wynosiła do 0,005. Jak wskazuje wykres, w kolejnych epokach różnica ta ulegała zmiejszeniu i wyniosła w 15 epoce 0,002. Nie daje to podstawy, aby stwierdzić, iż model jest przeuczony."
   ]
  },
  {
   "cell_type": "markdown",
   "metadata": {},
   "source": [
    "#### Model 3: Sieć konwolucyjna o bardziej złożonej architekturze"
   ]
  },
  {
   "cell_type": "markdown",
   "metadata": {},
   "source": [
    ">Model finałowy składa się z trzech warstw konwolucyjnych o rozmiarze 3x3, efektu padding (uzupełnianie zerami) wystepującym w każdej warstwie ukrytej oraz jako funkcję aktywacji przyjęto funkcję ReLu. Częstym błędem jest stosowanie zbyt dużych jąder splotowych, gdyż często ten sam efekt możemy uzyskać poprzez zmniejszenie jądra przy wprowadzeniu dodatkowej warstwy, ograniczając tym samym liczbę obliczeń i parametrów. Z tego powodu <b>rozmiar jądra ustalono więc na poziomie 3x3.</b> W warstwie pooling zdecydowano się zastosować taką funkcję która wybiera maksymalną wartość na obszarze 2x2. Liczba kanałów zmienia się z warstwy na warstwę. \n",
    "<br><br> W modelu 3 ustalono taki sam benchmark trafności wynoszący 0.99 na zbiorze walidacyjnym. Zastosowano również taki sam algorytm uczenia jak w modelu 2.\n"
   ]
  },
  {
   "cell_type": "code",
   "execution_count": 733,
   "metadata": {},
   "outputs": [],
   "source": [
    "#Model 3\n",
    "m3 = Chain(\n",
    "    Conv((3, 3), 1=>16, pad=(1,1)),\n",
    "    Conv((3, 3), 16=>32, pad=(1,1)),\n",
    "    Conv((3, 3), 32=>32, pad=(1,1)),\n",
    "    x -> reshape(x, :, size(x, 4)),\n",
    "    Dense(288, 2), \n",
    "    softmax);"
   ]
  },
  {
   "cell_type": "code",
   "execution_count": 737,
   "metadata": {},
   "outputs": [],
   "source": [
    "#Model 3\n",
    "model = Chain(\n",
    "    Conv((3, 3), 1=>16, pad=(1,1), relu),\n",
    "    x -> maxpool(x, (2,2)),\n",
    "    Conv((3, 3), 16=>32, pad=(1,1), relu),\n",
    "    x -> maxpool(x, (2,2)),\n",
    "    Conv((3, 3), 32=>32, pad=(1,1), relu),\n",
    "    x -> maxpool(x, (2,2)),\n",
    "    Dense(288, 2), \n",
    "    softmax);"
   ]
  },
  {
   "cell_type": "code",
   "execution_count": 738,
   "metadata": {},
   "outputs": [
    {
     "data": {
      "text/plain": [
       "Flux.Optimise.Optimiser(Any[ADAM(0.001, (0.9, 0.999), IdDict{Any,Any}()), WeightDecay(0)])"
      ]
     },
     "execution_count": 738,
     "metadata": {},
     "output_type": "execute_result"
    }
   ],
   "source": [
    "loss(x, y) = crossentropy(m3(x), y) \n",
    "accuracy(x, y) = mean(onecold(m3(x),0:1) .== onecold(y,0:1))\n",
    "evalcb = throttle(() -> @show(accuracy(test_set[1], test_set[2]),loss(test_set[1],test_set[2])), 64)\n",
    "opt = ADAMW(0.001)"
   ]
  },
  {
   "cell_type": "markdown",
   "metadata": {},
   "source": [
    "###############"
   ]
  },
  {
   "cell_type": "code",
   "execution_count": 739,
   "metadata": {},
   "outputs": [],
   "source": [
    "epochs = 20;"
   ]
  },
  {
   "cell_type": "code",
   "execution_count": 740,
   "metadata": {},
   "outputs": [
    {
     "ename": "MethodError",
     "evalue": "MethodError: no method matching *(::Array{Float32,2}, ::Array{Float32,4})\nClosest candidates are:\n  *(::Any, ::Any, !Matched::Any, !Matched::Any...) at operators.jl:502\n  *(::Union{DenseArray{T<:Union{Complex{Float32}, Complex{Float64}, Float32, Float64},2}, ReinterpretArray{T<:Union{Complex{Float32}, Complex{Float64}, Float32, Float64},2,S,A} where S where A<:Union{SubArray{T,N,A,I,true} where I<:Union{Tuple{Vararg{Real,N} where N}, Tuple{AbstractUnitRange,Vararg{Any,N} where N}} where A<:DenseArray where N where T, DenseArray}, ReshapedArray{T<:Union{Complex{Float32}, Complex{Float64}, Float32, Float64},2,A,MI} where MI<:Tuple{Vararg{SignedMultiplicativeInverse{Int64},N} where N} where A<:Union{ReinterpretArray{T,N,S,A} where S where A<:Union{SubArray{T,N,A,I,true} where I<:Union{Tuple{Vararg{Real,N} where N}, Tuple{AbstractUnitRange,Vararg{Any,N} where N}} where A<:DenseArray where N where T, DenseArray} where N where T, SubArray{T,N,A,I,true} where I<:Union{Tuple{Vararg{Real,N} where N}, Tuple{AbstractUnitRange,Vararg{Any,N} where N}} where A<:DenseArray where N where T, DenseArray}, SubArray{T<:Union{Complex{Float32}, Complex{Float64}, Float32, Float64},2,A,I,L} where L where I<:Tuple{Vararg{Union{Int64, AbstractRange{Int64}, AbstractCartesianIndex},N} where N} where A<:Union{ReinterpretArray{T,N,S,A} where S where A<:Union{SubArray{T,N,A,I,true} where I<:Union{Tuple{Vararg{Real,N} where N}, Tuple{AbstractUnitRange,Vararg{Any,N} where N}} where A<:DenseArray where N where T, DenseArray} where N where T, ReshapedArray{T,N,A,MI} where MI<:Tuple{Vararg{SignedMultiplicativeInverse{Int64},N} where N} where A<:Union{ReinterpretArray{T,N,S,A} where S where A<:Union{SubArray{T,N,A,I,true} where I<:Union{Tuple{Vararg{Real,N} where N}, Tuple{AbstractUnitRange,Vararg{Any,N} where N}} where A<:DenseArray where N where T, DenseArray} where N where T, SubArray{T,N,A,I,true} where I<:Union{Tuple{Vararg{Real,N} where N}, Tuple{AbstractUnitRange,Vararg{Any,N} where N}} where A<:DenseArray where N where T, DenseArray} where N where T, DenseArray}}, !Matched::Union{DenseArray{S,1}, ReinterpretArray{S,1,S,A} where S where A<:Union{SubArray{T,N,A,I,true} where I<:Union{Tuple{Vararg{Real,N} where N}, Tuple{AbstractUnitRange,Vararg{Any,N} where N}} where A<:DenseArray where N where T, DenseArray}, ReshapedArray{S,1,A,MI} where MI<:Tuple{Vararg{SignedMultiplicativeInverse{Int64},N} where N} where A<:Union{ReinterpretArray{T,N,S,A} where S where A<:Union{SubArray{T,N,A,I,true} where I<:Union{Tuple{Vararg{Real,N} where N}, Tuple{AbstractUnitRange,Vararg{Any,N} where N}} where A<:DenseArray where N where T, DenseArray} where N where T, SubArray{T,N,A,I,true} where I<:Union{Tuple{Vararg{Real,N} where N}, Tuple{AbstractUnitRange,Vararg{Any,N} where N}} where A<:DenseArray where N where T, DenseArray}, SubArray{S,1,A,I,L} where L where I<:Tuple{Vararg{Union{Int64, AbstractRange{Int64}, AbstractCartesianIndex},N} where N} where A<:Union{ReinterpretArray{T,N,S,A} where S where A<:Union{SubArray{T,N,A,I,true} where I<:Union{Tuple{Vararg{Real,N} where N}, Tuple{AbstractUnitRange,Vararg{Any,N} where N}} where A<:DenseArray where N where T, DenseArray} where N where T, ReshapedArray{T,N,A,MI} where MI<:Tuple{Vararg{SignedMultiplicativeInverse{Int64},N} where N} where A<:Union{ReinterpretArray{T,N,S,A} where S where A<:Union{SubArray{T,N,A,I,true} where I<:Union{Tuple{Vararg{Real,N} where N}, Tuple{AbstractUnitRange,Vararg{Any,N} where N}} where A<:DenseArray where N where T, DenseArray} where N where T, SubArray{T,N,A,I,true} where I<:Union{Tuple{Vararg{Real,N} where N}, Tuple{AbstractUnitRange,Vararg{Any,N} where N}} where A<:DenseArray where N where T, DenseArray} where N where T, DenseArray}}) where {T<:Union{Complex{Float32}, Complex{Float64}, Float32, Float64}, S} at C:\\cygwin\\home\\Administrator\\buildbot\\worker\\package_win64\\build\\usr\\share\\julia\\stdlib\\v1.1\\LinearAlgebra\\src\\matmul.jl:45\n  *(::Union{DenseArray{T,2}, ReinterpretArray{T,2,S,A} where S where A<:Union{SubArray{T,N,A,I,true} where I<:Union{Tuple{Vararg{Real,N} where N}, Tuple{AbstractUnitRange,Vararg{Any,N} where N}} where A<:DenseArray where N where T, DenseArray}, ReshapedArray{T,2,A,MI} where MI<:Tuple{Vararg{SignedMultiplicativeInverse{Int64},N} where N} where A<:Union{ReinterpretArray{T,N,S,A} where S where A<:Union{SubArray{T,N,A,I,true} where I<:Union{Tuple{Vararg{Real,N} where N}, Tuple{AbstractUnitRange,Vararg{Any,N} where N}} where A<:DenseArray where N where T, DenseArray} where N where T, SubArray{T,N,A,I,true} where I<:Union{Tuple{Vararg{Real,N} where N}, Tuple{AbstractUnitRange,Vararg{Any,N} where N}} where A<:DenseArray where N where T, DenseArray}, SubArray{T,2,A,I,L} where L where I<:Tuple{Vararg{Union{Int64, AbstractRange{Int64}, AbstractCartesianIndex},N} where N} where A<:Union{ReinterpretArray{T,N,S,A} where S where A<:Union{SubArray{T,N,A,I,true} where I<:Union{Tuple{Vararg{Real,N} where N}, Tuple{AbstractUnitRange,Vararg{Any,N} where N}} where A<:DenseArray where N where T, DenseArray} where N where T, ReshapedArray{T,N,A,MI} where MI<:Tuple{Vararg{SignedMultiplicativeInverse{Int64},N} where N} where A<:Union{ReinterpretArray{T,N,S,A} where S where A<:Union{SubArray{T,N,A,I,true} where I<:Union{Tuple{Vararg{Real,N} where N}, Tuple{AbstractUnitRange,Vararg{Any,N} where N}} where A<:DenseArray where N where T, DenseArray} where N where T, SubArray{T,N,A,I,true} where I<:Union{Tuple{Vararg{Real,N} where N}, Tuple{AbstractUnitRange,Vararg{Any,N} where N}} where A<:DenseArray where N where T, DenseArray} where N where T, DenseArray}} where T, !Matched::LinearAlgebra.AbstractQ) at C:\\cygwin\\home\\Administrator\\buildbot\\worker\\package_win64\\build\\usr\\share\\julia\\stdlib\\v1.1\\LinearAlgebra\\src\\qr.jl:668\n  ...",
     "output_type": "error",
     "traceback": [
      "MethodError: no method matching *(::Array{Float32,2}, ::Array{Float32,4})\nClosest candidates are:\n  *(::Any, ::Any, !Matched::Any, !Matched::Any...) at operators.jl:502\n  *(::Union{DenseArray{T<:Union{Complex{Float32}, Complex{Float64}, Float32, Float64},2}, ReinterpretArray{T<:Union{Complex{Float32}, Complex{Float64}, Float32, Float64},2,S,A} where S where A<:Union{SubArray{T,N,A,I,true} where I<:Union{Tuple{Vararg{Real,N} where N}, Tuple{AbstractUnitRange,Vararg{Any,N} where N}} where A<:DenseArray where N where T, DenseArray}, ReshapedArray{T<:Union{Complex{Float32}, Complex{Float64}, Float32, Float64},2,A,MI} where MI<:Tuple{Vararg{SignedMultiplicativeInverse{Int64},N} where N} where A<:Union{ReinterpretArray{T,N,S,A} where S where A<:Union{SubArray{T,N,A,I,true} where I<:Union{Tuple{Vararg{Real,N} where N}, Tuple{AbstractUnitRange,Vararg{Any,N} where N}} where A<:DenseArray where N where T, DenseArray} where N where T, SubArray{T,N,A,I,true} where I<:Union{Tuple{Vararg{Real,N} where N}, Tuple{AbstractUnitRange,Vararg{Any,N} where N}} where A<:DenseArray where N where T, DenseArray}, SubArray{T<:Union{Complex{Float32}, Complex{Float64}, Float32, Float64},2,A,I,L} where L where I<:Tuple{Vararg{Union{Int64, AbstractRange{Int64}, AbstractCartesianIndex},N} where N} where A<:Union{ReinterpretArray{T,N,S,A} where S where A<:Union{SubArray{T,N,A,I,true} where I<:Union{Tuple{Vararg{Real,N} where N}, Tuple{AbstractUnitRange,Vararg{Any,N} where N}} where A<:DenseArray where N where T, DenseArray} where N where T, ReshapedArray{T,N,A,MI} where MI<:Tuple{Vararg{SignedMultiplicativeInverse{Int64},N} where N} where A<:Union{ReinterpretArray{T,N,S,A} where S where A<:Union{SubArray{T,N,A,I,true} where I<:Union{Tuple{Vararg{Real,N} where N}, Tuple{AbstractUnitRange,Vararg{Any,N} where N}} where A<:DenseArray where N where T, DenseArray} where N where T, SubArray{T,N,A,I,true} where I<:Union{Tuple{Vararg{Real,N} where N}, Tuple{AbstractUnitRange,Vararg{Any,N} where N}} where A<:DenseArray where N where T, DenseArray} where N where T, DenseArray}}, !Matched::Union{DenseArray{S,1}, ReinterpretArray{S,1,S,A} where S where A<:Union{SubArray{T,N,A,I,true} where I<:Union{Tuple{Vararg{Real,N} where N}, Tuple{AbstractUnitRange,Vararg{Any,N} where N}} where A<:DenseArray where N where T, DenseArray}, ReshapedArray{S,1,A,MI} where MI<:Tuple{Vararg{SignedMultiplicativeInverse{Int64},N} where N} where A<:Union{ReinterpretArray{T,N,S,A} where S where A<:Union{SubArray{T,N,A,I,true} where I<:Union{Tuple{Vararg{Real,N} where N}, Tuple{AbstractUnitRange,Vararg{Any,N} where N}} where A<:DenseArray where N where T, DenseArray} where N where T, SubArray{T,N,A,I,true} where I<:Union{Tuple{Vararg{Real,N} where N}, Tuple{AbstractUnitRange,Vararg{Any,N} where N}} where A<:DenseArray where N where T, DenseArray}, SubArray{S,1,A,I,L} where L where I<:Tuple{Vararg{Union{Int64, AbstractRange{Int64}, AbstractCartesianIndex},N} where N} where A<:Union{ReinterpretArray{T,N,S,A} where S where A<:Union{SubArray{T,N,A,I,true} where I<:Union{Tuple{Vararg{Real,N} where N}, Tuple{AbstractUnitRange,Vararg{Any,N} where N}} where A<:DenseArray where N where T, DenseArray} where N where T, ReshapedArray{T,N,A,MI} where MI<:Tuple{Vararg{SignedMultiplicativeInverse{Int64},N} where N} where A<:Union{ReinterpretArray{T,N,S,A} where S where A<:Union{SubArray{T,N,A,I,true} where I<:Union{Tuple{Vararg{Real,N} where N}, Tuple{AbstractUnitRange,Vararg{Any,N} where N}} where A<:DenseArray where N where T, DenseArray} where N where T, SubArray{T,N,A,I,true} where I<:Union{Tuple{Vararg{Real,N} where N}, Tuple{AbstractUnitRange,Vararg{Any,N} where N}} where A<:DenseArray where N where T, DenseArray} where N where T, DenseArray}}) where {T<:Union{Complex{Float32}, Complex{Float64}, Float32, Float64}, S} at C:\\cygwin\\home\\Administrator\\buildbot\\worker\\package_win64\\build\\usr\\share\\julia\\stdlib\\v1.1\\LinearAlgebra\\src\\matmul.jl:45\n  *(::Union{DenseArray{T,2}, ReinterpretArray{T,2,S,A} where S where A<:Union{SubArray{T,N,A,I,true} where I<:Union{Tuple{Vararg{Real,N} where N}, Tuple{AbstractUnitRange,Vararg{Any,N} where N}} where A<:DenseArray where N where T, DenseArray}, ReshapedArray{T,2,A,MI} where MI<:Tuple{Vararg{SignedMultiplicativeInverse{Int64},N} where N} where A<:Union{ReinterpretArray{T,N,S,A} where S where A<:Union{SubArray{T,N,A,I,true} where I<:Union{Tuple{Vararg{Real,N} where N}, Tuple{AbstractUnitRange,Vararg{Any,N} where N}} where A<:DenseArray where N where T, DenseArray} where N where T, SubArray{T,N,A,I,true} where I<:Union{Tuple{Vararg{Real,N} where N}, Tuple{AbstractUnitRange,Vararg{Any,N} where N}} where A<:DenseArray where N where T, DenseArray}, SubArray{T,2,A,I,L} where L where I<:Tuple{Vararg{Union{Int64, AbstractRange{Int64}, AbstractCartesianIndex},N} where N} where A<:Union{ReinterpretArray{T,N,S,A} where S where A<:Union{SubArray{T,N,A,I,true} where I<:Union{Tuple{Vararg{Real,N} where N}, Tuple{AbstractUnitRange,Vararg{Any,N} where N}} where A<:DenseArray where N where T, DenseArray} where N where T, ReshapedArray{T,N,A,MI} where MI<:Tuple{Vararg{SignedMultiplicativeInverse{Int64},N} where N} where A<:Union{ReinterpretArray{T,N,S,A} where S where A<:Union{SubArray{T,N,A,I,true} where I<:Union{Tuple{Vararg{Real,N} where N}, Tuple{AbstractUnitRange,Vararg{Any,N} where N}} where A<:DenseArray where N where T, DenseArray} where N where T, SubArray{T,N,A,I,true} where I<:Union{Tuple{Vararg{Real,N} where N}, Tuple{AbstractUnitRange,Vararg{Any,N} where N}} where A<:DenseArray where N where T, DenseArray} where N where T, DenseArray}} where T, !Matched::LinearAlgebra.AbstractQ) at C:\\cygwin\\home\\Administrator\\buildbot\\worker\\package_win64\\build\\usr\\share\\julia\\stdlib\\v1.1\\LinearAlgebra\\src\\qr.jl:668\n  ...",
      "",
      "Stacktrace:",
      " [1] macro expansion at C:\\Users\\Dell\\.julia\\packages\\Zygote\\iOhwI\\src\\compiler\\interface2.jl:0 [inlined]",
      " [2] _pullback(::Zygote.Context, ::typeof(*), ::Array{Float32,2}, ::Array{Float32,4}) at C:\\Users\\Dell\\.julia\\packages\\Zygote\\iOhwI\\src\\compiler\\interface2.jl:7",
      " [3] Dense at C:\\Users\\Dell\\.julia\\packages\\Flux\\NpkMm\\src\\layers\\basic.jl:115 [inlined]",
      " [4] _pullback(::Zygote.Context, ::typeof(invoke), ::Dense{typeof(identity),Array{Float32,2},Array{Float32,1}}, ::Type{Tuple{AbstractArray}}, ::Array{Float32,4}) at C:\\Users\\Dell\\.julia\\packages\\Zygote\\iOhwI\\src\\compiler\\interface2.jl:0",
      " [5] Dense at C:\\Users\\Dell\\.julia\\packages\\Flux\\NpkMm\\src\\layers\\basic.jl:126 [inlined]",
      " [6] _pullback(::Zygote.Context, ::Dense{typeof(identity),Array{Float32,2},Array{Float32,1}}, ::Array{Float32,4}) at C:\\Users\\Dell\\.julia\\packages\\Zygote\\iOhwI\\src\\compiler\\interface2.jl:0",
      " [7] applychain at C:\\Users\\Dell\\.julia\\packages\\Flux\\NpkMm\\src\\layers\\basic.jl:30 [inlined]",
      " [8] _pullback(::Zygote.Context, ::typeof(Flux.applychain), ::Tuple{Dense{typeof(identity),Array{Float32,2},Array{Float32,1}},typeof(softmax)}, ::Array{Float32,4}) at C:\\Users\\Dell\\.julia\\packages\\Zygote\\iOhwI\\src\\compiler\\interface2.jl:0",
      " [9] applychain at C:\\Users\\Dell\\.julia\\packages\\Flux\\NpkMm\\src\\layers\\basic.jl:30 [inlined]",
      " [10] _pullback(::Zygote.Context, ::typeof(Flux.applychain), ::Tuple{getfield(Main, Symbol(\"##195#198\")),Dense{typeof(identity),Array{Float32,2},Array{Float32,1}},typeof(softmax)}, ::Array{Float32,4}) at C:\\Users\\Dell\\.julia\\packages\\Zygote\\iOhwI\\src\\compiler\\interface2.jl:0",
      " [11] applychain at C:\\Users\\Dell\\.julia\\packages\\Flux\\NpkMm\\src\\layers\\basic.jl:30 [inlined]",
      " [12] _pullback(::Zygote.Context, ::typeof(Flux.applychain), ::Tuple{Conv{2,2,typeof(relu),Array{Float32,4},Array{Float32,1}},getfield(Main, Symbol(\"##195#198\")),Dense{typeof(identity),Array{Float32,2},Array{Float32,1}},typeof(softmax)}, ::Array{Float32,4}) at C:\\Users\\Dell\\.julia\\packages\\Zygote\\iOhwI\\src\\compiler\\interface2.jl:0",
      " [13] applychain at C:\\Users\\Dell\\.julia\\packages\\Flux\\NpkMm\\src\\layers\\basic.jl:30 [inlined]",
      " [14] _pullback(::Zygote.Context, ::typeof(Flux.applychain), ::Tuple{getfield(Main, Symbol(\"##194#197\")),Conv{2,2,typeof(relu),Array{Float32,4},Array{Float32,1}},getfield(Main, Symbol(\"##195#198\")),Dense{typeof(identity),Array{Float32,2},Array{Float32,1}},typeof(softmax)}, ::Array{Float32,4}) at C:\\Users\\Dell\\.julia\\packages\\Zygote\\iOhwI\\src\\compiler\\interface2.jl:0",
      " [15] applychain at C:\\Users\\Dell\\.julia\\packages\\Flux\\NpkMm\\src\\layers\\basic.jl:30 [inlined]",
      " [16] _pullback(::Zygote.Context, ::typeof(Flux.applychain), ::Tuple{Conv{2,2,typeof(relu),Array{Float32,4},Array{Float32,1}},getfield(Main, Symbol(\"##194#197\")),Conv{2,2,typeof(relu),Array{Float32,4},Array{Float32,1}},getfield(Main, Symbol(\"##195#198\")),Dense{typeof(identity),Array{Float32,2},Array{Float32,1}},typeof(softmax)}, ::Array{Float32,4}) at C:\\Users\\Dell\\.julia\\packages\\Zygote\\iOhwI\\src\\compiler\\interface2.jl:0",
      " [17] applychain at C:\\Users\\Dell\\.julia\\packages\\Flux\\NpkMm\\src\\layers\\basic.jl:30 [inlined]",
      " [18] _pullback(::Zygote.Context, ::typeof(Flux.applychain), ::Tuple{getfield(Main, Symbol(\"##193#196\")),Conv{2,2,typeof(relu),Array{Float32,4},Array{Float32,1}},getfield(Main, Symbol(\"##194#197\")),Conv{2,2,typeof(relu),Array{Float32,4},Array{Float32,1}},getfield(Main, Symbol(\"##195#198\")),Dense{typeof(identity),Array{Float32,2},Array{Float32,1}},typeof(softmax)}, ::Array{Float32,4}) at C:\\Users\\Dell\\.julia\\packages\\Zygote\\iOhwI\\src\\compiler\\interface2.jl:0",
      " [19] applychain at C:\\Users\\Dell\\.julia\\packages\\Flux\\NpkMm\\src\\layers\\basic.jl:30 [inlined]",
      " [20] _pullback(::Zygote.Context, ::typeof(Flux.applychain), ::Tuple{Conv{2,2,typeof(relu),Array{Float32,4},Array{Float32,1}},getfield(Main, Symbol(\"##193#196\")),Conv{2,2,typeof(relu),Array{Float32,4},Array{Float32,1}},getfield(Main, Symbol(\"##194#197\")),Conv{2,2,typeof(relu),Array{Float32,4},Array{Float32,1}},getfield(Main, Symbol(\"##195#198\")),Dense{typeof(identity),Array{Float32,2},Array{Float32,1}},typeof(softmax)}, ::Array{Float32,4}) at C:\\Users\\Dell\\.julia\\packages\\Zygote\\iOhwI\\src\\compiler\\interface2.jl:0",
      " [21] Chain at C:\\Users\\Dell\\.julia\\packages\\Flux\\NpkMm\\src\\layers\\basic.jl:32 [inlined]",
      " [22] _pullback(::Zygote.Context, ::Chain{Tuple{Conv{2,2,typeof(relu),Array{Float32,4},Array{Float32,1}},getfield(Main, Symbol(\"##193#196\")),Conv{2,2,typeof(relu),Array{Float32,4},Array{Float32,1}},getfield(Main, Symbol(\"##194#197\")),Conv{2,2,typeof(relu),Array{Float32,4},Array{Float32,1}},getfield(Main, Symbol(\"##195#198\")),Dense{typeof(identity),Array{Float32,2},Array{Float32,1}},typeof(softmax)}}, ::Array{Float32,4}) at C:\\Users\\Dell\\.julia\\packages\\Zygote\\iOhwI\\src\\compiler\\interface2.jl:0",
      " [23] loss at .\\In[303]:3 [inlined]",
      " [24] _pullback(::Zygote.Context, ::typeof(loss), ::Array{Float32,4}, ::Flux.OneHotMatrix{Array{Flux.OneHotVector,1}}) at C:\\Users\\Dell\\.julia\\packages\\Zygote\\iOhwI\\src\\compiler\\interface2.jl:0",
      " [25] adjoint(::Zygote.Context, ::typeof(Core._apply), ::Function, ::Tuple{Array{Float32,4},Flux.OneHotMatrix{Array{Flux.OneHotVector,1}}}) at C:\\Users\\Dell\\.julia\\packages\\Zygote\\iOhwI\\src\\lib\\lib.jl:153",
      " [26] _pullback(::Zygote.Context, ::getfield(Flux.Optimise, Symbol(\"##17#25\")){typeof(loss)}) at C:\\Users\\Dell\\.julia\\packages\\ZygoteRules\\6nssF\\src\\adjoint.jl:47",
      " [27] pullback(::Function, ::Zygote.Params) at C:\\Users\\Dell\\.julia\\packages\\Zygote\\iOhwI\\src\\compiler\\interface.jl:105",
      " [28] gradient(::Function, ::Zygote.Params) at C:\\Users\\Dell\\.julia\\packages\\Zygote\\iOhwI\\src\\compiler\\interface.jl:46",
      " [29] macro expansion at C:\\Users\\Dell\\.julia\\packages\\Flux\\NpkMm\\src\\optimise\\train.jl:87 [inlined]",
      " [30] macro expansion at C:\\Users\\Dell\\.julia\\packages\\Juno\\oLB1d\\src\\progress.jl:134 [inlined]",
      " [31] #train!#12(::getfield(Flux, Symbol(\"#throttled#24\")){getfield(Flux, Symbol(\"##throttled#16#20\")){Bool,Bool,getfield(Main, Symbol(\"##199#200\")),Int64}}, ::Function, ::typeof(loss), ::Zygote.Params, ::Array{Tuple{Array{Float32,4},Flux.OneHotMatrix{Array{Flux.OneHotVector,1}}},1}, ::Flux.Optimise.Optimiser) at C:\\Users\\Dell\\.julia\\packages\\Flux\\NpkMm\\src\\optimise\\train.jl:80",
      " [32] (::getfield(Flux.Optimise, Symbol(\"#kw##train!\")))(::NamedTuple{(:cb,),Tuple{getfield(Flux, Symbol(\"#throttled#24\")){getfield(Flux, Symbol(\"##throttled#16#20\")){Bool,Bool,getfield(Main, Symbol(\"##199#200\")),Int64}}}}, ::typeof(Flux.Optimise.train!), ::Function, ::Zygote.Params, ::Array{Tuple{Array{Float32,4},Flux.OneHotMatrix{Array{Flux.OneHotVector,1}}},1}, ::Flux.Optimise.Optimiser) at .\\none:0",
      " [33] top-level scope at .\\In[740]:7"
     ]
    }
   ],
   "source": [
    "# Model 3: Proces uczenia\n",
    "best_acc = 0.0\n",
    "df = DataFrame(Epoch=1:epochs, Accuracy_test=0.0);\n",
    "cntr = 1;\n",
    "for i=1:epochs\n",
    "    global best_acc, last_improvement\n",
    "    Flux.train!(loss, params(m3), train_set, opt, cb = evalcb)\n",
    "    df[cntr, :Epoch]=i\n",
    "    df[cntr, :Accuracy_test]=accuracy(test_set[1],test_set[2])\n",
    "    cntr+=1\n",
    "    acc = accuracy(test_set[1],test_set[2])\n",
    "        @info(@sprintf(\"[%d]: Precyzja na walidacyjnym: %.4f\", i, acc))\n",
    "    if acc >= 0.99\n",
    "        @info(\" -> Wczesne zatrzymanie: Osiągnięto 99% precyzję\")\n",
    "        break\n",
    "    end\n",
    "    if acc >= best_acc\n",
    "        @info(\" -> Nowa najlepsza precyzja! Model zapisany do my_model_3.bson\")\n",
    "        BSON.@save \"my_model_3.bson\" m3 i acc\n",
    "        best_acc = acc\n",
    "        last_improvement = i\n",
    "    end\n",
    "end"
   ]
  },
  {
   "cell_type": "code",
   "execution_count": 514,
   "metadata": {},
   "outputs": [
    {
     "data": {
      "text/html": [
       "<table class=\"data-frame\"><thead><tr><th></th><th>Epoch</th><th>Accuracy_test</th></tr><tr><th></th><th>Int64</th><th>Float64</th></tr></thead><tbody><p>20 rows × 2 columns</p><tr><th>1</th><td>1</td><td>0.5189</td></tr><tr><th>2</th><td>2</td><td>0.5189</td></tr><tr><th>3</th><td>3</td><td>0.5189</td></tr><tr><th>4</th><td>4</td><td>0.5189</td></tr><tr><th>5</th><td>5</td><td>0.5189</td></tr><tr><th>6</th><td>6</td><td>0.5189</td></tr><tr><th>7</th><td>7</td><td>0.5189</td></tr><tr><th>8</th><td>8</td><td>0.5189</td></tr><tr><th>9</th><td>9</td><td>0.5189</td></tr><tr><th>10</th><td>10</td><td>0.5189</td></tr><tr><th>11</th><td>11</td><td>0.5189</td></tr><tr><th>12</th><td>12</td><td>0.5189</td></tr><tr><th>13</th><td>13</td><td>0.5189</td></tr><tr><th>14</th><td>14</td><td>0.5189</td></tr><tr><th>15</th><td>15</td><td>0.5189</td></tr><tr><th>16</th><td>16</td><td>0.5189</td></tr><tr><th>17</th><td>17</td><td>0.5189</td></tr><tr><th>18</th><td>18</td><td>0.5189</td></tr><tr><th>19</th><td>19</td><td>0.5189</td></tr><tr><th>20</th><td>20</td><td>0.5189</td></tr></tbody></table>"
      ],
      "text/latex": [
       "\\begin{tabular}{r|cc}\n",
       "\t& Epoch & Accuracy\\_test\\\\\n",
       "\t\\hline\n",
       "\t& Int64 & Float64\\\\\n",
       "\t\\hline\n",
       "\t1 & 1 & 0.5189 \\\\\n",
       "\t2 & 2 & 0.5189 \\\\\n",
       "\t3 & 3 & 0.5189 \\\\\n",
       "\t4 & 4 & 0.5189 \\\\\n",
       "\t5 & 5 & 0.5189 \\\\\n",
       "\t6 & 6 & 0.5189 \\\\\n",
       "\t7 & 7 & 0.5189 \\\\\n",
       "\t8 & 8 & 0.5189 \\\\\n",
       "\t9 & 9 & 0.5189 \\\\\n",
       "\t10 & 10 & 0.5189 \\\\\n",
       "\t11 & 11 & 0.5189 \\\\\n",
       "\t12 & 12 & 0.5189 \\\\\n",
       "\t13 & 13 & 0.5189 \\\\\n",
       "\t14 & 14 & 0.5189 \\\\\n",
       "\t15 & 15 & 0.5189 \\\\\n",
       "\t16 & 16 & 0.5189 \\\\\n",
       "\t17 & 17 & 0.5189 \\\\\n",
       "\t18 & 18 & 0.5189 \\\\\n",
       "\t19 & 19 & 0.5189 \\\\\n",
       "\t20 & 20 & 0.5189 \\\\\n",
       "\\end{tabular}\n"
      ],
      "text/plain": [
       "20×2 DataFrame\n",
       "│ Row │ Epoch │ Accuracy_test │\n",
       "│     │ \u001b[90mInt64\u001b[39m │ \u001b[90mFloat64\u001b[39m       │\n",
       "├─────┼───────┼───────────────┤\n",
       "│ 1   │ 1     │ 0.5189        │\n",
       "│ 2   │ 2     │ 0.5189        │\n",
       "│ 3   │ 3     │ 0.5189        │\n",
       "│ 4   │ 4     │ 0.5189        │\n",
       "│ 5   │ 5     │ 0.5189        │\n",
       "│ 6   │ 6     │ 0.5189        │\n",
       "│ 7   │ 7     │ 0.5189        │\n",
       "│ 8   │ 8     │ 0.5189        │\n",
       "│ 9   │ 9     │ 0.5189        │\n",
       "│ 10  │ 10    │ 0.5189        │\n",
       "│ 11  │ 11    │ 0.5189        │\n",
       "│ 12  │ 12    │ 0.5189        │\n",
       "│ 13  │ 13    │ 0.5189        │\n",
       "│ 14  │ 14    │ 0.5189        │\n",
       "│ 15  │ 15    │ 0.5189        │\n",
       "│ 16  │ 16    │ 0.5189        │\n",
       "│ 17  │ 17    │ 0.5189        │\n",
       "│ 18  │ 18    │ 0.5189        │\n",
       "│ 19  │ 19    │ 0.5189        │\n",
       "│ 20  │ 20    │ 0.5189        │"
      ]
     },
     "execution_count": 514,
     "metadata": {},
     "output_type": "execute_result"
    }
   ],
   "source": [
    "#Pokazanie tabeli z wynikami na zbiorze treningowym oraz walidacyjnym\n",
    "df"
   ]
  },
  {
   "cell_type": "code",
   "execution_count": 517,
   "metadata": {},
   "outputs": [
    {
     "data": {
      "image/svg+xml": [
       "<?xml version=\"1.0\" encoding=\"utf-8\"?>\n",
       "<svg xmlns=\"http://www.w3.org/2000/svg\" xmlns:xlink=\"http://www.w3.org/1999/xlink\" width=\"600\" height=\"400\" viewBox=\"0 0 2400 1600\">\n",
       "<defs>\n",
       "  <clipPath id=\"clip460\">\n",
       "    <rect x=\"0\" y=\"0\" width=\"2400\" height=\"1600\"/>\n",
       "  </clipPath>\n",
       "</defs>\n",
       "<path clip-path=\"url(#clip460)\" d=\"\n",
       "M0 1600 L2400 1600 L2400 0 L0 0  Z\n",
       "  \" fill=\"#ffffff\" fill-rule=\"evenodd\" fill-opacity=\"1\"/>\n",
       "<defs>\n",
       "  <clipPath id=\"clip461\">\n",
       "    <rect x=\"480\" y=\"0\" width=\"1681\" height=\"1600\"/>\n",
       "  </clipPath>\n",
       "</defs>\n",
       "<path clip-path=\"url(#clip460)\" d=\"\n",
       "M153.898 1487.47 L2352.76 1487.47 L2352.76 47.2441 L153.898 47.2441  Z\n",
       "  \" fill=\"#ffffff\" fill-rule=\"evenodd\" fill-opacity=\"1\"/>\n",
       "<defs>\n",
       "  <clipPath id=\"clip462\">\n",
       "    <rect x=\"153\" y=\"47\" width=\"2200\" height=\"1441\"/>\n",
       "  </clipPath>\n",
       "</defs>\n",
       "<polyline clip-path=\"url(#clip462)\" style=\"stroke:#000000; stroke-width:1.6; stroke-opacity:0.1; fill:none\" points=\"\n",
       "  652.844,1487.47 652.844,47.2441 \n",
       "  \"/>\n",
       "<polyline clip-path=\"url(#clip462)\" style=\"stroke:#000000; stroke-width:1.6; stroke-opacity:0.1; fill:none\" points=\"\n",
       "  1198.74,1487.47 1198.74,47.2441 \n",
       "  \"/>\n",
       "<polyline clip-path=\"url(#clip462)\" style=\"stroke:#000000; stroke-width:1.6; stroke-opacity:0.1; fill:none\" points=\"\n",
       "  1744.63,1487.47 1744.63,47.2441 \n",
       "  \"/>\n",
       "<polyline clip-path=\"url(#clip462)\" style=\"stroke:#000000; stroke-width:1.6; stroke-opacity:0.1; fill:none\" points=\"\n",
       "  2290.52,1487.47 2290.52,47.2441 \n",
       "  \"/>\n",
       "<polyline clip-path=\"url(#clip462)\" style=\"stroke:#000000; stroke-width:1.6; stroke-opacity:0.1; fill:none\" points=\"\n",
       "  153.898,1336.52 2352.76,1336.52 \n",
       "  \"/>\n",
       "<polyline clip-path=\"url(#clip462)\" style=\"stroke:#000000; stroke-width:1.6; stroke-opacity:0.1; fill:none\" points=\"\n",
       "  153.898,1064.78 2352.76,1064.78 \n",
       "  \"/>\n",
       "<polyline clip-path=\"url(#clip462)\" style=\"stroke:#000000; stroke-width:1.6; stroke-opacity:0.1; fill:none\" points=\"\n",
       "  153.898,793.039 2352.76,793.039 \n",
       "  \"/>\n",
       "<polyline clip-path=\"url(#clip462)\" style=\"stroke:#000000; stroke-width:1.6; stroke-opacity:0.1; fill:none\" points=\"\n",
       "  153.898,521.298 2352.76,521.298 \n",
       "  \"/>\n",
       "<polyline clip-path=\"url(#clip462)\" style=\"stroke:#000000; stroke-width:1.6; stroke-opacity:0.1; fill:none\" points=\"\n",
       "  153.898,249.556 2352.76,249.556 \n",
       "  \"/>\n",
       "<polyline clip-path=\"url(#clip460)\" style=\"stroke:#000000; stroke-width:3.2; stroke-opacity:1; fill:none\" points=\"\n",
       "  153.898,1487.47 2352.76,1487.47 \n",
       "  \"/>\n",
       "<polyline clip-path=\"url(#clip460)\" style=\"stroke:#000000; stroke-width:3.2; stroke-opacity:1; fill:none\" points=\"\n",
       "  153.898,1487.47 153.898,47.2441 \n",
       "  \"/>\n",
       "<polyline clip-path=\"url(#clip460)\" style=\"stroke:#000000; stroke-width:3.2; stroke-opacity:1; fill:none\" points=\"\n",
       "  652.844,1487.47 652.844,1465.87 \n",
       "  \"/>\n",
       "<polyline clip-path=\"url(#clip460)\" style=\"stroke:#000000; stroke-width:3.2; stroke-opacity:1; fill:none\" points=\"\n",
       "  1198.74,1487.47 1198.74,1465.87 \n",
       "  \"/>\n",
       "<polyline clip-path=\"url(#clip460)\" style=\"stroke:#000000; stroke-width:3.2; stroke-opacity:1; fill:none\" points=\"\n",
       "  1744.63,1487.47 1744.63,1465.87 \n",
       "  \"/>\n",
       "<polyline clip-path=\"url(#clip460)\" style=\"stroke:#000000; stroke-width:3.2; stroke-opacity:1; fill:none\" points=\"\n",
       "  2290.52,1487.47 2290.52,1465.87 \n",
       "  \"/>\n",
       "<polyline clip-path=\"url(#clip460)\" style=\"stroke:#000000; stroke-width:3.2; stroke-opacity:1; fill:none\" points=\"\n",
       "  153.898,1336.52 186.881,1336.52 \n",
       "  \"/>\n",
       "<polyline clip-path=\"url(#clip460)\" style=\"stroke:#000000; stroke-width:3.2; stroke-opacity:1; fill:none\" points=\"\n",
       "  153.898,1064.78 186.881,1064.78 \n",
       "  \"/>\n",
       "<polyline clip-path=\"url(#clip460)\" style=\"stroke:#000000; stroke-width:3.2; stroke-opacity:1; fill:none\" points=\"\n",
       "  153.898,793.039 186.881,793.039 \n",
       "  \"/>\n",
       "<polyline clip-path=\"url(#clip460)\" style=\"stroke:#000000; stroke-width:3.2; stroke-opacity:1; fill:none\" points=\"\n",
       "  153.898,521.298 186.881,521.298 \n",
       "  \"/>\n",
       "<polyline clip-path=\"url(#clip460)\" style=\"stroke:#000000; stroke-width:3.2; stroke-opacity:1; fill:none\" points=\"\n",
       "  153.898,249.556 186.881,249.556 \n",
       "  \"/>\n",
       "<g clip-path=\"url(#clip460)\">\n",
       "<text style=\"fill:#000000; fill-opacity:1; font-family:Arial,Helvetica Neue,Helvetica,sans-serif; font-size:48px; text-anchor:middle;\" transform=\"rotate(0, 652.844, 1541.47)\" x=\"652.844\" y=\"1541.47\">5</text>\n",
       "</g>\n",
       "<g clip-path=\"url(#clip460)\">\n",
       "<text style=\"fill:#000000; fill-opacity:1; font-family:Arial,Helvetica Neue,Helvetica,sans-serif; font-size:48px; text-anchor:middle;\" transform=\"rotate(0, 1198.74, 1541.47)\" x=\"1198.74\" y=\"1541.47\">10</text>\n",
       "</g>\n",
       "<g clip-path=\"url(#clip460)\">\n",
       "<text style=\"fill:#000000; fill-opacity:1; font-family:Arial,Helvetica Neue,Helvetica,sans-serif; font-size:48px; text-anchor:middle;\" transform=\"rotate(0, 1744.63, 1541.47)\" x=\"1744.63\" y=\"1541.47\">15</text>\n",
       "</g>\n",
       "<g clip-path=\"url(#clip460)\">\n",
       "<text style=\"fill:#000000; fill-opacity:1; font-family:Arial,Helvetica Neue,Helvetica,sans-serif; font-size:48px; text-anchor:middle;\" transform=\"rotate(0, 2290.52, 1541.47)\" x=\"2290.52\" y=\"1541.47\">20</text>\n",
       "</g>\n",
       "<g clip-path=\"url(#clip460)\">\n",
       "<text style=\"fill:#000000; fill-opacity:1; font-family:Arial,Helvetica Neue,Helvetica,sans-serif; font-size:48px; text-anchor:end;\" transform=\"rotate(0, 129.898, 1354.02)\" x=\"129.898\" y=\"1354.02\">0.6</text>\n",
       "</g>\n",
       "<g clip-path=\"url(#clip460)\">\n",
       "<text style=\"fill:#000000; fill-opacity:1; font-family:Arial,Helvetica Neue,Helvetica,sans-serif; font-size:48px; text-anchor:end;\" transform=\"rotate(0, 129.898, 1082.28)\" x=\"129.898\" y=\"1082.28\">0.8</text>\n",
       "</g>\n",
       "<g clip-path=\"url(#clip460)\">\n",
       "<text style=\"fill:#000000; fill-opacity:1; font-family:Arial,Helvetica Neue,Helvetica,sans-serif; font-size:48px; text-anchor:end;\" transform=\"rotate(0, 129.898, 810.539)\" x=\"129.898\" y=\"810.539\">1.0</text>\n",
       "</g>\n",
       "<g clip-path=\"url(#clip460)\">\n",
       "<text style=\"fill:#000000; fill-opacity:1; font-family:Arial,Helvetica Neue,Helvetica,sans-serif; font-size:48px; text-anchor:end;\" transform=\"rotate(0, 129.898, 538.798)\" x=\"129.898\" y=\"538.798\">1.2</text>\n",
       "</g>\n",
       "<g clip-path=\"url(#clip460)\">\n",
       "<text style=\"fill:#000000; fill-opacity:1; font-family:Arial,Helvetica Neue,Helvetica,sans-serif; font-size:48px; text-anchor:end;\" transform=\"rotate(0, 129.898, 267.056)\" x=\"129.898\" y=\"267.056\">1.4</text>\n",
       "</g>\n",
       "<polyline clip-path=\"url(#clip462)\" style=\"stroke:#009af9; stroke-width:6.4; stroke-opacity:1; fill:none\" points=\"\n",
       "  216.13,1446.71 325.308,1446.71 434.487,1446.71 543.666,1446.71 652.844,1446.71 762.023,1446.71 871.202,1446.71 980.38,1446.71 1089.56,1446.71 1198.74,1446.71 \n",
       "  1307.92,1446.71 1417.09,1446.71 1526.27,1446.71 1635.45,1446.71 1744.63,1446.71 1853.81,1446.71 1962.99,1446.71 2072.17,1446.71 2181.35,1446.71 2290.52,1446.71 \n",
       "  \n",
       "  \"/>\n",
       "<path clip-path=\"url(#clip460)\" d=\"\n",
       "M1947.14 251.724 L2280.76 251.724 L2280.76 130.764 L1947.14 130.764  Z\n",
       "  \" fill=\"#ffffff\" fill-rule=\"evenodd\" fill-opacity=\"1\"/>\n",
       "<polyline clip-path=\"url(#clip460)\" style=\"stroke:#000000; stroke-width:3.2; stroke-opacity:1; fill:none\" points=\"\n",
       "  1947.14,251.724 2280.76,251.724 2280.76,130.764 1947.14,130.764 1947.14,251.724 \n",
       "  \"/>\n",
       "<polyline clip-path=\"url(#clip460)\" style=\"stroke:#009af9; stroke-width:6.4; stroke-opacity:1; fill:none\" points=\"\n",
       "  1971.14,191.244 2115.14,191.244 \n",
       "  \"/>\n",
       "<g clip-path=\"url(#clip460)\">\n",
       "<text style=\"fill:#000000; fill-opacity:1; font-family:Arial,Helvetica Neue,Helvetica,sans-serif; font-size:48px; text-anchor:start;\" transform=\"rotate(0, 2139.14, 208.744)\" x=\"2139.14\" y=\"208.744\">Test</text>\n",
       "</g>\n",
       "</svg>\n"
      ]
     },
     "execution_count": 517,
     "metadata": {},
     "output_type": "execute_result"
    }
   ],
   "source": [
    "# Model 3: wykres \n",
    "p_epoch = df[:,:Epoch]\n",
    "p_test = df[:,:Accuracy_test]\n",
    "p1 = plot(p_epoch,p_test,label=[\"Test\"],lw=2)"
   ]
  },
  {
   "cell_type": "code",
   "execution_count": 518,
   "metadata": {},
   "outputs": [
    {
     "name": "stdout",
     "output_type": "stream",
     "text": [
      "accuracy(test_set[1], test_set[2]) = 0.5189003436426117\n"
     ]
    },
    {
     "data": {
      "text/plain": [
       "0.5189003436426117"
      ]
     },
     "execution_count": 518,
     "metadata": {},
     "output_type": "execute_result"
    }
   ],
   "source": [
    "@show(accuracy(test_set[1],test_set[2]))"
   ]
  },
  {
   "cell_type": "markdown",
   "metadata": {},
   "source": [
    "> <b>Wyniki:</b><br> Po 15 iteracjach nie udało się uzyskać maksymalnej, ustalonej trafności na zbiorze walidacyjnym chociaż różnica jest bardzo mała, gdyż wynosi jedynie 0.01. Z wykresu można wywnioskować, że model nie jest przeuczony gdyż wartości w epokach na zbiorze treningowym oraz walidacyjnym są podobne i największa ich róźnica wynosi 0.0053 w epoce 8 (co jest widoczne na obrazku - w tej epoce linie są położone najdalej od siebie). Accuracy na zbiorze testowym wyniosła około 0.97.  "
   ]
  },
  {
   "cell_type": "markdown",
   "metadata": {},
   "source": [
    "## Porównanie trzech sieci\n",
    "> Najlepsze wyniki pozwoliła uzyskać ostatnia sieć, która to cechuje się się najbardziej skomplikowaną architekturą - składa się z trzech warstw konwolucyjnych o rozmiarze 3x3, efektu padding wystepującym w każdej warstwie ukrytej oraz funkcji ReLu. Uzyskano dzięki niej przy 15 iteracjach wartość accuracy 0,98 na zbiorze walidacyjnym. Model drugi, składający się z jedej warstwy konwolucyjnej, paddingu, funkcji aktywacji w postaci funkcji ReLu oraz warstwy poolingu pozwolił na uzyskanie accuracy na zbiorze testowym o wartości 0,937, czyli o 0,043 mniej. Z kolei najgorsze rezultaty dał pierwszy model -  zwykła głęboka sieć neuronowa z czterema warstwami ukrytymi i funkcją aktywacji relu, a na warstwie wyjściowej funkcją softmax - uzyskał on accuracy 0,75."
   ]
  },
  {
   "cell_type": "markdown",
   "metadata": {},
   "source": [
    "## Podsumowanie\n",
    "> Podsumowując, celem raportu było stworzenie modelu, która z jak największą precyzją pozwoli na rozpoznanie, czy na zdjęciu lotniczym znajduje się kaktus. W tym celu wykorzystano następujące dane: dokument tekstowy z identyfikatorami kaktusów i zmienną binarną, która przyjmuje wartość 1, gdy na zdjęciu znajduje się kaktus oraz wartość 0, gdy na zdjęciu nie znajduje się kaktus oraz 17500 miniaturowych obrazów w rozmiarze 32 x 32 zawierających lotnicze zdjęcia kaktusa. Aby zbudować jak najlepszy model przetrenowano wiele sieci, jednakże w pracy zaprezentowano jedynie trzy z oszacowanych modeli: model głębokiej sieci neuronowej z czterema warstwami ukrytymi i funkcją aktywacji relu, a na warstwie wyjściowej funkcją softmax oraz dwa modele sieci konwolucyjnej - pierwszy składał się z jednej warstwy konwolucyjnej, paddingu, funkcji aktywacji w postaci funkcji ReLu oraz warstwy poolingu, natomiast drugi miał bardziej skomplikowaną architekturę: składał się z trzech warstw konwolucyjnych o rozmiarze 3x3, efektu padding wystepującym w każdej warstwie ukrytej oraz funkcji ReLu. Model ostatni, czyli sieć konwolucyjna o bardziej skomplikowanej architekturze, okazał się być modelem najlepszym - pozwolił na uzyskanie wartości accuracy 0,98 na zbiorze testowym.  \n",
    "Nie udało się uzyskać maksymalnej, ustalonej trafności 0,99 na zbiorze walidacyjnym, jednakże zachodzi możliwość, iż wartość ta zostałaby uzyskana, gdyby zwiększono liczbę iteracji, czego z uwagi na ograniczoną moc obliczeniową komputerów i ograniczenia systemowe nie można było sprawdzić."
   ]
  },
  {
   "cell_type": "markdown",
   "metadata": {},
   "source": [
    "## Bibliografia"
   ]
  },
  {
   "cell_type": "markdown",
   "metadata": {},
   "source": [
    "<i>Deep Learning</i> - Ian Goodfellow, Aaron Courville\n",
    "<br><i>Hands-On Machine Learning with Scikit-Learn and TensorFlow: Concepts, Tools, and Techniques to Build Intelligent Systems</i> - Aurelien Geron\n",
    "<i>Revisiting Small Batch Training for Deep Neural Networks</i>, 2018 - Dominic Masters, Carlo Luschi."
   ]
  }
 ],
 "metadata": {
  "kernelspec": {
   "display_name": "Julia 1.5.3",
   "language": "julia",
   "name": "julia-1.5"
  },
  "language_info": {
   "file_extension": ".jl",
   "mimetype": "application/julia",
   "name": "julia",
   "version": "1.5.3"
  }
 },
 "nbformat": 4,
 "nbformat_minor": 2
}
